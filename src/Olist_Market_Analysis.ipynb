{
 "cells": [
  {
   "cell_type": "markdown",
   "metadata": {
    "pycharm": {
     "name": "#%% md\n"
    }
   },
   "source": [
    "<h1><span style=\"color:blue;font-weight:700;font-size:24px\">\n",
    "Olist Market Funnel Analysis\n",
    "</span></h1>\n",
    "\n",
    "___\n",
    "\n",
    "<span style=\"color:gray;font-weight:350;font-size:16px\">\n",
    "<br>\n",
    "Este projeto tem por objetivo realizar uma análise exploratória dos dados disponibilizados pela plataforma Olist que conecta negócios pequenos e de médio porte com os diversos marketplaces no Brasil.</span>\n",
    "<br><br>\n",
    "\n",
    "[Brazilian E-Commerce Public Dataset by Olist](https://www.kaggle.com/datasets/olistbr/brazilian-ecommerce)\n",
    "<br>\n",
    "---"
   ]
  },
  {
   "cell_type": "markdown",
   "metadata": {
    "pycharm": {
     "name": "#%% md\n"
    }
   },
   "source": [
    "<h2><span style=\"color:blue;font-weight:700;font-size:24px\">\n",
    "Questões a serem respondidas\n",
    "</span></h2>\n",
    "<br>\n",
    "\n",
    "<span style=\"color:gray;font-weight:350;font-size:16px\">\n",
    "<ol>\n",
    "    <li>Qual foi a taxa de conversão total?</li>\n",
    "    <li>Qual foi a taxa de conversão de cada origem?</li>\n",
    "    <li>Qual foi a taxa de conversão de cada página inicial?</li>\n",
    "    <li>Para cada SR, qual a receita média declarada dos leads?</li>\n",
    "    <li>Para cada SR, quantos de cada business_type a pessoa converteu?</li>\n",
    "    <li>Para cada SR, quantos de cada lead_behaviour_profile a pessoa converteu?</li>\n",
    "    <li>Para cada SR, quantos de cada lead_type a pessoa converteu?</li>\n",
    "</ol>\n",
    "<br>\n",
    "    \n",
    "---"
   ]
  },
  {
   "cell_type": "markdown",
   "metadata": {
    "pycharm": {
     "name": "#%% md\n"
    }
   },
   "source": [
    "<span style=\"color:green; font-weight:300;font-size:24px\">\n",
    "<b>\n",
    "Importando as bibliotecas\n",
    "</b></span>\n"
   ]
  },
  {
   "cell_type": "code",
   "execution_count": 2,
   "metadata": {
    "pycharm": {
     "is_executing": true,
     "name": "#%%\n"
    }
   },
   "outputs": [
    {
     "name": "stdout",
     "output_type": "stream",
     "text": [
      "**** Importação de bibliotecas com sucesso! ****\n"
     ]
    }
   ],
   "source": [
    "import pandas as pd\n",
    "import numpy as np\n",
    "import os\n",
    "from pathlib import Path\n",
    "print(\"**** Importação de bibliotecas com sucesso! ****\")"
   ]
  },
  {
   "cell_type": "markdown",
   "metadata": {
    "pycharm": {
     "name": "#%% md\n"
    }
   },
   "source": [
    "<span style=\"color:green; font-weight:300;font-size:24px\"><b>Funções básicas </b></span>"
   ]
  },
  {
   "cell_type": "code",
   "execution_count": 3,
   "metadata": {
    "pycharm": {
     "name": "#%%\n"
    }
   },
   "outputs": [
    {
     "name": "stdout",
     "output_type": "stream",
     "text": [
      "**** Funções criadas com sucesso! ****\n"
     ]
    }
   ],
   "source": [
    "def caminho_dos_dados(projeto):\n",
    "    '''\n",
    "    Função que retorna o caminho dos dados atual acrescido do nome do projeto\n",
    "    '''\n",
    "    return str(Path(os.getcwd()).parent) + '/data'+ projeto\n",
    "\n",
    "def criar_dataframe(projeto, arquivo):\n",
    "    '''\n",
    "    Função para criar um dataframe a partir de um arquivo csv e projeto específico\n",
    "    '''\n",
    "    df = pd.read_csv(caminho_dos_dados(projeto) + '/' + arquivo)\n",
    "    return df\n",
    "\n",
    "print(\"**** Funções criadas com sucesso! ****\")"
   ]
  },
  {
   "cell_type": "markdown",
   "metadata": {
    "pycharm": {
     "name": "#%% md\n"
    }
   },
   "source": [
    "<span style=\"color:green; font-weight:300;font-size:24px\"><b>Importando os dados</b></span><br>\n",
    "\n",
    "---\n",
    "\n",
    "<span style=\"color:blue;font-weight:300;font-size:20px\"><b>Importando propostas convertidas em venda</b></span><br>"
   ]
  },
  {
   "cell_type": "code",
   "execution_count": 4,
   "metadata": {
    "pycharm": {
     "name": "#%%\n"
    }
   },
   "outputs": [
    {
     "data": {
      "text/html": [
       "<div>\n",
       "<style scoped>\n",
       "    .dataframe tbody tr th:only-of-type {\n",
       "        vertical-align: middle;\n",
       "    }\n",
       "\n",
       "    .dataframe tbody tr th {\n",
       "        vertical-align: top;\n",
       "    }\n",
       "\n",
       "    .dataframe thead th {\n",
       "        text-align: right;\n",
       "    }\n",
       "</style>\n",
       "<table border=\"1\" class=\"dataframe\">\n",
       "  <thead>\n",
       "    <tr style=\"text-align: right;\">\n",
       "      <th></th>\n",
       "      <th>mql_id</th>\n",
       "      <th>seller_id</th>\n",
       "      <th>sdr_id</th>\n",
       "      <th>sr_id</th>\n",
       "      <th>won_date</th>\n",
       "      <th>business_segment</th>\n",
       "      <th>lead_type</th>\n",
       "      <th>lead_behaviour_profile</th>\n",
       "      <th>has_company</th>\n",
       "      <th>has_gtin</th>\n",
       "      <th>average_stock</th>\n",
       "      <th>business_type</th>\n",
       "      <th>declared_product_catalog_size</th>\n",
       "      <th>declared_monthly_revenue</th>\n",
       "    </tr>\n",
       "  </thead>\n",
       "  <tbody>\n",
       "    <tr>\n",
       "      <th>0</th>\n",
       "      <td>5420aad7fec3549a85876ba1c529bd84</td>\n",
       "      <td>2c43fb513632d29b3b58df74816f1b06</td>\n",
       "      <td>a8387c01a09e99ce014107505b92388c</td>\n",
       "      <td>4ef15afb4b2723d8f3d81e51ec7afefe</td>\n",
       "      <td>2018-02-26 19:58:54</td>\n",
       "      <td>pet</td>\n",
       "      <td>online_medium</td>\n",
       "      <td>cat</td>\n",
       "      <td>NaN</td>\n",
       "      <td>NaN</td>\n",
       "      <td>NaN</td>\n",
       "      <td>reseller</td>\n",
       "      <td>NaN</td>\n",
       "      <td>0.0</td>\n",
       "    </tr>\n",
       "    <tr>\n",
       "      <th>1</th>\n",
       "      <td>a555fb36b9368110ede0f043dfc3b9a0</td>\n",
       "      <td>bbb7d7893a450660432ea6652310ebb7</td>\n",
       "      <td>09285259593c61296eef10c734121d5b</td>\n",
       "      <td>d3d1e91a157ea7f90548eef82f1955e3</td>\n",
       "      <td>2018-05-08 20:17:59</td>\n",
       "      <td>car_accessories</td>\n",
       "      <td>industry</td>\n",
       "      <td>eagle</td>\n",
       "      <td>NaN</td>\n",
       "      <td>NaN</td>\n",
       "      <td>NaN</td>\n",
       "      <td>reseller</td>\n",
       "      <td>NaN</td>\n",
       "      <td>0.0</td>\n",
       "    </tr>\n",
       "    <tr>\n",
       "      <th>2</th>\n",
       "      <td>327174d3648a2d047e8940d7d15204ca</td>\n",
       "      <td>612170e34b97004b3ba37eae81836b4c</td>\n",
       "      <td>b90f87164b5f8c2cfa5c8572834dbe3f</td>\n",
       "      <td>6565aa9ce3178a5caf6171827af3a9ba</td>\n",
       "      <td>2018-06-05 17:27:23</td>\n",
       "      <td>home_appliances</td>\n",
       "      <td>online_big</td>\n",
       "      <td>cat</td>\n",
       "      <td>NaN</td>\n",
       "      <td>NaN</td>\n",
       "      <td>NaN</td>\n",
       "      <td>reseller</td>\n",
       "      <td>NaN</td>\n",
       "      <td>0.0</td>\n",
       "    </tr>\n",
       "    <tr>\n",
       "      <th>3</th>\n",
       "      <td>f5fee8f7da74f4887f5bcae2bafb6dd6</td>\n",
       "      <td>21e1781e36faf92725dde4730a88ca0f</td>\n",
       "      <td>56bf83c4bb35763a51c2baab501b4c67</td>\n",
       "      <td>d3d1e91a157ea7f90548eef82f1955e3</td>\n",
       "      <td>2018-01-17 13:51:03</td>\n",
       "      <td>food_drink</td>\n",
       "      <td>online_small</td>\n",
       "      <td>NaN</td>\n",
       "      <td>NaN</td>\n",
       "      <td>NaN</td>\n",
       "      <td>NaN</td>\n",
       "      <td>reseller</td>\n",
       "      <td>NaN</td>\n",
       "      <td>0.0</td>\n",
       "    </tr>\n",
       "  </tbody>\n",
       "</table>\n",
       "</div>"
      ],
      "text/plain": [
       "                             mql_id                         seller_id  \\\n",
       "0  5420aad7fec3549a85876ba1c529bd84  2c43fb513632d29b3b58df74816f1b06   \n",
       "1  a555fb36b9368110ede0f043dfc3b9a0  bbb7d7893a450660432ea6652310ebb7   \n",
       "2  327174d3648a2d047e8940d7d15204ca  612170e34b97004b3ba37eae81836b4c   \n",
       "3  f5fee8f7da74f4887f5bcae2bafb6dd6  21e1781e36faf92725dde4730a88ca0f   \n",
       "\n",
       "                             sdr_id                             sr_id  \\\n",
       "0  a8387c01a09e99ce014107505b92388c  4ef15afb4b2723d8f3d81e51ec7afefe   \n",
       "1  09285259593c61296eef10c734121d5b  d3d1e91a157ea7f90548eef82f1955e3   \n",
       "2  b90f87164b5f8c2cfa5c8572834dbe3f  6565aa9ce3178a5caf6171827af3a9ba   \n",
       "3  56bf83c4bb35763a51c2baab501b4c67  d3d1e91a157ea7f90548eef82f1955e3   \n",
       "\n",
       "              won_date business_segment      lead_type lead_behaviour_profile  \\\n",
       "0  2018-02-26 19:58:54              pet  online_medium                    cat   \n",
       "1  2018-05-08 20:17:59  car_accessories       industry                  eagle   \n",
       "2  2018-06-05 17:27:23  home_appliances     online_big                    cat   \n",
       "3  2018-01-17 13:51:03       food_drink   online_small                    NaN   \n",
       "\n",
       "  has_company has_gtin average_stock business_type  \\\n",
       "0         NaN      NaN           NaN      reseller   \n",
       "1         NaN      NaN           NaN      reseller   \n",
       "2         NaN      NaN           NaN      reseller   \n",
       "3         NaN      NaN           NaN      reseller   \n",
       "\n",
       "   declared_product_catalog_size  declared_monthly_revenue  \n",
       "0                            NaN                       0.0  \n",
       "1                            NaN                       0.0  \n",
       "2                            NaN                       0.0  \n",
       "3                            NaN                       0.0  "
      ]
     },
     "execution_count": 4,
     "metadata": {},
     "output_type": "execute_result"
    }
   ],
   "source": [
    "projeto = '/olist_mkt_funnel'\n",
    "arquivo = 'olist_closed_deals_dataset.csv'\n",
    "df_vendas_convertidas = criar_dataframe(projeto , arquivo)\n",
    "df_vendas_convertidas.head(4)"
   ]
  },
  {
   "cell_type": "code",
   "execution_count": 5,
   "metadata": {
    "pycharm": {
     "name": "#%%\n"
    }
   },
   "outputs": [
    {
     "name": "stdout",
     "output_type": "stream",
     "text": [
      "<class 'pandas.core.frame.DataFrame'>\n",
      "RangeIndex: 842 entries, 0 to 841\n",
      "Data columns (total 14 columns):\n",
      " #   Column                         Non-Null Count  Dtype  \n",
      "---  ------                         --------------  -----  \n",
      " 0   mql_id                         842 non-null    object \n",
      " 1   seller_id                      842 non-null    object \n",
      " 2   sdr_id                         842 non-null    object \n",
      " 3   sr_id                          842 non-null    object \n",
      " 4   won_date                       842 non-null    object \n",
      " 5   business_segment               841 non-null    object \n",
      " 6   lead_type                      836 non-null    object \n",
      " 7   lead_behaviour_profile         665 non-null    object \n",
      " 8   has_company                    63 non-null     object \n",
      " 9   has_gtin                       64 non-null     object \n",
      " 10  average_stock                  66 non-null     object \n",
      " 11  business_type                  832 non-null    object \n",
      " 12  declared_product_catalog_size  69 non-null     float64\n",
      " 13  declared_monthly_revenue       842 non-null    float64\n",
      "dtypes: float64(2), object(12)\n",
      "memory usage: 92.2+ KB\n"
     ]
    },
    {
     "data": {
      "text/plain": [
       "mql_id                           842\n",
       "seller_id                        842\n",
       "sdr_id                            32\n",
       "sr_id                             22\n",
       "won_date                         824\n",
       "business_segment                  33\n",
       "lead_type                          8\n",
       "lead_behaviour_profile             9\n",
       "has_company                        2\n",
       "has_gtin                           2\n",
       "average_stock                      6\n",
       "business_type                      3\n",
       "declared_product_catalog_size     33\n",
       "declared_monthly_revenue          27\n",
       "dtype: int64"
      ]
     },
     "execution_count": 5,
     "metadata": {},
     "output_type": "execute_result"
    }
   ],
   "source": [
    "info_vendas_convertidas = df_vendas_convertidas.info()\n",
    "list(df_vendas_convertidas)\n",
    "df_vendas_convertidas.nunique()"
   ]
  },
  {
   "cell_type": "markdown",
   "metadata": {
    "pycharm": {
     "name": "#%% md\n"
    }
   },
   "source": [
    "<span style=\"color:blue;font-weight:300;font-size:20px\"><b>Importando as oportunidades de negócio<br>"
   ]
  },
  {
   "cell_type": "code",
   "execution_count": 6,
   "metadata": {
    "pycharm": {
     "name": "#%%\n"
    }
   },
   "outputs": [
    {
     "data": {
      "text/html": [
       "<div>\n",
       "<style scoped>\n",
       "    .dataframe tbody tr th:only-of-type {\n",
       "        vertical-align: middle;\n",
       "    }\n",
       "\n",
       "    .dataframe tbody tr th {\n",
       "        vertical-align: top;\n",
       "    }\n",
       "\n",
       "    .dataframe thead th {\n",
       "        text-align: right;\n",
       "    }\n",
       "</style>\n",
       "<table border=\"1\" class=\"dataframe\">\n",
       "  <thead>\n",
       "    <tr style=\"text-align: right;\">\n",
       "      <th></th>\n",
       "      <th>mql_id</th>\n",
       "      <th>first_contact_date</th>\n",
       "      <th>landing_page_id</th>\n",
       "      <th>origin</th>\n",
       "    </tr>\n",
       "  </thead>\n",
       "  <tbody>\n",
       "    <tr>\n",
       "      <th>0</th>\n",
       "      <td>dac32acd4db4c29c230538b72f8dd87d</td>\n",
       "      <td>2018-02-01</td>\n",
       "      <td>88740e65d5d6b056e0cda098e1ea6313</td>\n",
       "      <td>social</td>\n",
       "    </tr>\n",
       "    <tr>\n",
       "      <th>1</th>\n",
       "      <td>8c18d1de7f67e60dbd64e3c07d7e9d5d</td>\n",
       "      <td>2017-10-20</td>\n",
       "      <td>007f9098284a86ee80ddeb25d53e0af8</td>\n",
       "      <td>paid_search</td>\n",
       "    </tr>\n",
       "    <tr>\n",
       "      <th>2</th>\n",
       "      <td>b4bc852d233dfefc5131f593b538befa</td>\n",
       "      <td>2018-03-22</td>\n",
       "      <td>a7982125ff7aa3b2054c6e44f9d28522</td>\n",
       "      <td>organic_search</td>\n",
       "    </tr>\n",
       "    <tr>\n",
       "      <th>3</th>\n",
       "      <td>6be030b81c75970747525b843c1ef4f8</td>\n",
       "      <td>2018-01-22</td>\n",
       "      <td>d45d558f0daeecf3cccdffe3c59684aa</td>\n",
       "      <td>email</td>\n",
       "    </tr>\n",
       "  </tbody>\n",
       "</table>\n",
       "</div>"
      ],
      "text/plain": [
       "                             mql_id first_contact_date  \\\n",
       "0  dac32acd4db4c29c230538b72f8dd87d         2018-02-01   \n",
       "1  8c18d1de7f67e60dbd64e3c07d7e9d5d         2017-10-20   \n",
       "2  b4bc852d233dfefc5131f593b538befa         2018-03-22   \n",
       "3  6be030b81c75970747525b843c1ef4f8         2018-01-22   \n",
       "\n",
       "                    landing_page_id          origin  \n",
       "0  88740e65d5d6b056e0cda098e1ea6313          social  \n",
       "1  007f9098284a86ee80ddeb25d53e0af8     paid_search  \n",
       "2  a7982125ff7aa3b2054c6e44f9d28522  organic_search  \n",
       "3  d45d558f0daeecf3cccdffe3c59684aa           email  "
      ]
     },
     "execution_count": 6,
     "metadata": {},
     "output_type": "execute_result"
    }
   ],
   "source": [
    "arquivo = 'olist_marketing_qualified_leads_dataset.csv'\n",
    "df_todas_propostas = criar_dataframe(projeto , arquivo)\n",
    "df_todas_propostas.head(4)"
   ]
  },
  {
   "cell_type": "code",
   "execution_count": 7,
   "metadata": {
    "pycharm": {
     "name": "#%%\n"
    }
   },
   "outputs": [
    {
     "name": "stdout",
     "output_type": "stream",
     "text": [
      "<class 'pandas.core.frame.DataFrame'>\n",
      "RangeIndex: 8000 entries, 0 to 7999\n",
      "Data columns (total 4 columns):\n",
      " #   Column              Non-Null Count  Dtype \n",
      "---  ------              --------------  ----- \n",
      " 0   mql_id              8000 non-null   object\n",
      " 1   first_contact_date  8000 non-null   object\n",
      " 2   landing_page_id     8000 non-null   object\n",
      " 3   origin              7940 non-null   object\n",
      "dtypes: object(4)\n",
      "memory usage: 250.1+ KB\n"
     ]
    },
    {
     "data": {
      "text/plain": [
       "['mql_id', 'first_contact_date', 'landing_page_id', 'origin']"
      ]
     },
     "execution_count": 7,
     "metadata": {},
     "output_type": "execute_result"
    }
   ],
   "source": [
    "info_todas_propostas = df_todas_propostas.info()\n",
    "list(df_todas_propostas)\n"
   ]
  },
  {
   "cell_type": "markdown",
   "metadata": {
    "pycharm": {
     "name": "#%% md\n"
    }
   },
   "source": [
    "<span style=\"color:blue;font-weight:300;font-size:20px\"><b>Criando uma base única</b></span>"
   ]
  },
  {
   "cell_type": "code",
   "execution_count": 30,
   "metadata": {
    "pycharm": {
     "name": "#%%\n"
    }
   },
   "outputs": [
    {
     "name": "stdout",
     "output_type": "stream",
     "text": [
      "<class 'pandas.core.frame.DataFrame'>\n",
      "Int64Index: 8000 entries, 0 to 7999\n",
      "Data columns (total 17 columns):\n",
      " #   Column                         Non-Null Count  Dtype  \n",
      "---  ------                         --------------  -----  \n",
      " 0   mql_id                         8000 non-null   object \n",
      " 1   first_contact_date             8000 non-null   object \n",
      " 2   landing_page_id                8000 non-null   object \n",
      " 3   origin                         7940 non-null   object \n",
      " 4   seller_id                      842 non-null    object \n",
      " 5   sdr_id                         842 non-null    object \n",
      " 6   sr_id                          842 non-null    object \n",
      " 7   won_date                       842 non-null    object \n",
      " 8   business_segment               841 non-null    object \n",
      " 9   lead_type                      836 non-null    object \n",
      " 10  lead_behaviour_profile         665 non-null    object \n",
      " 11  has_company                    63 non-null     object \n",
      " 12  has_gtin                       64 non-null     object \n",
      " 13  average_stock                  66 non-null     object \n",
      " 14  business_type                  832 non-null    object \n",
      " 15  declared_product_catalog_size  69 non-null     float64\n",
      " 16  declared_monthly_revenue       842 non-null    float64\n",
      "dtypes: float64(2), object(15)\n",
      "memory usage: 1.1+ MB\n"
     ]
    }
   ],
   "source": [
    "df_base_completa = df_todas_propostas.merge(df_vendas_convertidas, on = ['mql_id'], how = 'left').copy()\n",
    "df_base_completa.info()"
   ]
  },
  {
   "cell_type": "code",
   "execution_count": 31,
   "metadata": {
    "pycharm": {
     "name": "#%%\n"
    }
   },
   "outputs": [
    {
     "data": {
      "text/plain": [
       "0"
      ]
     },
     "execution_count": 31,
     "metadata": {},
     "output_type": "execute_result"
    }
   ],
   "source": [
    "# Vamos verificar se existem registros duplicados no dataframe completo.\n",
    "\n",
    "registros_duplicados = df_base_completa.duplicated()\n",
    "registros_duplicados.sum()\n"
   ]
  },
  {
   "cell_type": "code",
   "execution_count": 32,
   "metadata": {
    "pycharm": {
     "name": "#%%\n"
    }
   },
   "outputs": [
    {
     "data": {
      "text/html": [
       "<div>\n",
       "<style scoped>\n",
       "    .dataframe tbody tr th:only-of-type {\n",
       "        vertical-align: middle;\n",
       "    }\n",
       "\n",
       "    .dataframe tbody tr th {\n",
       "        vertical-align: top;\n",
       "    }\n",
       "\n",
       "    .dataframe thead th {\n",
       "        text-align: right;\n",
       "    }\n",
       "</style>\n",
       "<table border=\"1\" class=\"dataframe\">\n",
       "  <thead>\n",
       "    <tr style=\"text-align: right;\">\n",
       "      <th></th>\n",
       "      <th>mql_id</th>\n",
       "      <th>first_contact_date</th>\n",
       "      <th>landing_page_id</th>\n",
       "      <th>origin</th>\n",
       "      <th>seller_id</th>\n",
       "      <th>sdr_id</th>\n",
       "      <th>sr_id</th>\n",
       "      <th>won_date</th>\n",
       "      <th>business_segment</th>\n",
       "      <th>lead_type</th>\n",
       "      <th>lead_behaviour_profile</th>\n",
       "      <th>has_company</th>\n",
       "      <th>has_gtin</th>\n",
       "      <th>average_stock</th>\n",
       "      <th>business_type</th>\n",
       "      <th>declared_product_catalog_size</th>\n",
       "      <th>declared_monthly_revenue</th>\n",
       "      <th>closed_deal</th>\n",
       "    </tr>\n",
       "  </thead>\n",
       "  <tbody>\n",
       "    <tr>\n",
       "      <th>0</th>\n",
       "      <td>dac32acd4db4c29c230538b72f8dd87d</td>\n",
       "      <td>2018-02-01</td>\n",
       "      <td>88740e65d5d6b056e0cda098e1ea6313</td>\n",
       "      <td>social</td>\n",
       "      <td>NaN</td>\n",
       "      <td>NaN</td>\n",
       "      <td>NaN</td>\n",
       "      <td>NaN</td>\n",
       "      <td>NaN</td>\n",
       "      <td>NaN</td>\n",
       "      <td>NaN</td>\n",
       "      <td>NaN</td>\n",
       "      <td>NaN</td>\n",
       "      <td>NaN</td>\n",
       "      <td>NaN</td>\n",
       "      <td>NaN</td>\n",
       "      <td>NaN</td>\n",
       "      <td>0</td>\n",
       "    </tr>\n",
       "    <tr>\n",
       "      <th>1</th>\n",
       "      <td>8c18d1de7f67e60dbd64e3c07d7e9d5d</td>\n",
       "      <td>2017-10-20</td>\n",
       "      <td>007f9098284a86ee80ddeb25d53e0af8</td>\n",
       "      <td>paid_search</td>\n",
       "      <td>NaN</td>\n",
       "      <td>NaN</td>\n",
       "      <td>NaN</td>\n",
       "      <td>NaN</td>\n",
       "      <td>NaN</td>\n",
       "      <td>NaN</td>\n",
       "      <td>NaN</td>\n",
       "      <td>NaN</td>\n",
       "      <td>NaN</td>\n",
       "      <td>NaN</td>\n",
       "      <td>NaN</td>\n",
       "      <td>NaN</td>\n",
       "      <td>NaN</td>\n",
       "      <td>0</td>\n",
       "    </tr>\n",
       "    <tr>\n",
       "      <th>2</th>\n",
       "      <td>b4bc852d233dfefc5131f593b538befa</td>\n",
       "      <td>2018-03-22</td>\n",
       "      <td>a7982125ff7aa3b2054c6e44f9d28522</td>\n",
       "      <td>organic_search</td>\n",
       "      <td>NaN</td>\n",
       "      <td>NaN</td>\n",
       "      <td>NaN</td>\n",
       "      <td>NaN</td>\n",
       "      <td>NaN</td>\n",
       "      <td>NaN</td>\n",
       "      <td>NaN</td>\n",
       "      <td>NaN</td>\n",
       "      <td>NaN</td>\n",
       "      <td>NaN</td>\n",
       "      <td>NaN</td>\n",
       "      <td>NaN</td>\n",
       "      <td>NaN</td>\n",
       "      <td>0</td>\n",
       "    </tr>\n",
       "    <tr>\n",
       "      <th>3</th>\n",
       "      <td>6be030b81c75970747525b843c1ef4f8</td>\n",
       "      <td>2018-01-22</td>\n",
       "      <td>d45d558f0daeecf3cccdffe3c59684aa</td>\n",
       "      <td>email</td>\n",
       "      <td>NaN</td>\n",
       "      <td>NaN</td>\n",
       "      <td>NaN</td>\n",
       "      <td>NaN</td>\n",
       "      <td>NaN</td>\n",
       "      <td>NaN</td>\n",
       "      <td>NaN</td>\n",
       "      <td>NaN</td>\n",
       "      <td>NaN</td>\n",
       "      <td>NaN</td>\n",
       "      <td>NaN</td>\n",
       "      <td>NaN</td>\n",
       "      <td>NaN</td>\n",
       "      <td>0</td>\n",
       "    </tr>\n",
       "    <tr>\n",
       "      <th>4</th>\n",
       "      <td>5420aad7fec3549a85876ba1c529bd84</td>\n",
       "      <td>2018-02-21</td>\n",
       "      <td>b48ec5f3b04e9068441002a19df93c6c</td>\n",
       "      <td>organic_search</td>\n",
       "      <td>2c43fb513632d29b3b58df74816f1b06</td>\n",
       "      <td>a8387c01a09e99ce014107505b92388c</td>\n",
       "      <td>4ef15afb4b2723d8f3d81e51ec7afefe</td>\n",
       "      <td>2018-02-26 19:58:54</td>\n",
       "      <td>pet</td>\n",
       "      <td>online_medium</td>\n",
       "      <td>cat</td>\n",
       "      <td>NaN</td>\n",
       "      <td>NaN</td>\n",
       "      <td>NaN</td>\n",
       "      <td>reseller</td>\n",
       "      <td>NaN</td>\n",
       "      <td>0.0</td>\n",
       "      <td>1</td>\n",
       "    </tr>\n",
       "  </tbody>\n",
       "</table>\n",
       "</div>"
      ],
      "text/plain": [
       "                             mql_id first_contact_date  \\\n",
       "0  dac32acd4db4c29c230538b72f8dd87d         2018-02-01   \n",
       "1  8c18d1de7f67e60dbd64e3c07d7e9d5d         2017-10-20   \n",
       "2  b4bc852d233dfefc5131f593b538befa         2018-03-22   \n",
       "3  6be030b81c75970747525b843c1ef4f8         2018-01-22   \n",
       "4  5420aad7fec3549a85876ba1c529bd84         2018-02-21   \n",
       "\n",
       "                    landing_page_id          origin  \\\n",
       "0  88740e65d5d6b056e0cda098e1ea6313          social   \n",
       "1  007f9098284a86ee80ddeb25d53e0af8     paid_search   \n",
       "2  a7982125ff7aa3b2054c6e44f9d28522  organic_search   \n",
       "3  d45d558f0daeecf3cccdffe3c59684aa           email   \n",
       "4  b48ec5f3b04e9068441002a19df93c6c  organic_search   \n",
       "\n",
       "                          seller_id                            sdr_id  \\\n",
       "0                               NaN                               NaN   \n",
       "1                               NaN                               NaN   \n",
       "2                               NaN                               NaN   \n",
       "3                               NaN                               NaN   \n",
       "4  2c43fb513632d29b3b58df74816f1b06  a8387c01a09e99ce014107505b92388c   \n",
       "\n",
       "                              sr_id             won_date business_segment  \\\n",
       "0                               NaN                  NaN              NaN   \n",
       "1                               NaN                  NaN              NaN   \n",
       "2                               NaN                  NaN              NaN   \n",
       "3                               NaN                  NaN              NaN   \n",
       "4  4ef15afb4b2723d8f3d81e51ec7afefe  2018-02-26 19:58:54              pet   \n",
       "\n",
       "       lead_type lead_behaviour_profile has_company has_gtin average_stock  \\\n",
       "0            NaN                    NaN         NaN      NaN           NaN   \n",
       "1            NaN                    NaN         NaN      NaN           NaN   \n",
       "2            NaN                    NaN         NaN      NaN           NaN   \n",
       "3            NaN                    NaN         NaN      NaN           NaN   \n",
       "4  online_medium                    cat         NaN      NaN           NaN   \n",
       "\n",
       "  business_type  declared_product_catalog_size  declared_monthly_revenue  \\\n",
       "0           NaN                            NaN                       NaN   \n",
       "1           NaN                            NaN                       NaN   \n",
       "2           NaN                            NaN                       NaN   \n",
       "3           NaN                            NaN                       NaN   \n",
       "4      reseller                            NaN                       0.0   \n",
       "\n",
       "   closed_deal  \n",
       "0            0  \n",
       "1            0  \n",
       "2            0  \n",
       "3            0  \n",
       "4            1  "
      ]
     },
     "execution_count": 32,
     "metadata": {},
     "output_type": "execute_result"
    }
   ],
   "source": [
    "# Criando uma coluna adicional para identificar as vendas fechadas.\n",
    "df_base_completa['closed_deal'] = np.where(df_base_completa['won_date'].isnull(), 0, 1)\n",
    "df_base_completa.head(5)"
   ]
  },
  {
   "cell_type": "markdown",
   "metadata": {
    "pycharm": {
     "name": "#%% md\n"
    }
   },
   "source": [
    "<span style=\"color:blue;font-weight:300;font-size:20px\"><b>Taxa de conversão total</b></span>"
   ]
  },
  {
   "cell_type": "code",
   "execution_count": 33,
   "metadata": {
    "pycharm": {
     "name": "#%%\n"
    }
   },
   "outputs": [
    {
     "name": "stdout",
     "output_type": "stream",
     "text": [
      "**** Taxa de conversão total= 10.53% ****\n"
     ]
    }
   ],
   "source": [
    "taxa_conversao_total = df_base_completa.closed_deal.sum()/df_base_completa.shape[0]*100\n",
    "print(f'**** Taxa de conversão total= {taxa_conversao_total:.2f}% ****')"
   ]
  },
  {
   "cell_type": "markdown",
   "metadata": {
    "pycharm": {
     "name": "#%% md\n"
    }
   },
   "source": [
    "<span style=\"color:blue;font-weight:300;font-size:20px\"><b>Taxa de conversão por Origem</b></span>"
   ]
  },
  {
   "cell_type": "code",
   "execution_count": 34,
   "metadata": {
    "pycharm": {
     "name": "#%%\n"
    }
   },
   "outputs": [
    {
     "data": {
      "text/plain": [
       "origin\n",
       "direct_traffic       11.22\n",
       "display               5.08\n",
       "email                 3.04\n",
       "organic_search       11.80\n",
       "other                 2.67\n",
       "other_publicities     4.62\n",
       "paid_search          12.30\n",
       "referral              8.45\n",
       "social                5.56\n",
       "unknown              16.29\n",
       "Name: closed_deal, dtype: float64"
      ]
     },
     "execution_count": 34,
     "metadata": {},
     "output_type": "execute_result"
    }
   ],
   "source": [
    "taxa_conversao_por_origem = np.round(df_base_completa.groupby(['origin'])['closed_deal'].sum()\n",
    "                                     /df_base_completa.groupby(['origin'])['closed_deal'].count()*100, 2)\n",
    "taxa_conversao_por_origem"
   ]
  },
  {
   "cell_type": "markdown",
   "metadata": {
    "pycharm": {
     "name": "#%% md\n"
    }
   },
   "source": [
    "<span style=\"color:blue;font-weight:300;font-size:20px\"><b>Taxa de conversão por Página Inicial</b></span>"
   ]
  },
  {
   "cell_type": "code",
   "execution_count": 35,
   "metadata": {
    "pycharm": {
     "name": "#%%\n"
    }
   },
   "outputs": [
    {
     "data": {
      "text/plain": [
       "landing_page_id\n",
       "007f9098284a86ee80ddeb25d53e0af8      6.06\n",
       "01850876d34b43494b5f9879c366877b      0.00\n",
       "0218f6be0b76aca72ab4d00ee9e8cf10     12.50\n",
       "03c7c0ace395d80182db07ae2c30f034      0.00\n",
       "04a75b75d5f4f3a16b0178fbe382da00    100.00\n",
       "                                     ...  \n",
       "fd7c4cdfbfb7964b441618d54f88c38b      0.00\n",
       "fd7d977e75d1ac5cfe6b93ffabb150b1      0.00\n",
       "fe82aeadeaea2186478fe6353d6d5301     25.00\n",
       "ff3416719616ad4921acb8c74e21d6f0      0.00\n",
       "ffc62d6945fd1423539ec6d96326c37c    100.00\n",
       "Name: closed_deal, Length: 495, dtype: float64"
      ]
     },
     "execution_count": 35,
     "metadata": {},
     "output_type": "execute_result"
    }
   ],
   "source": [
    "taxa_conversao_por_pagina = np.round(df_base_completa.groupby(['landing_page_id'])['closed_deal'].sum()\n",
    "                                     /df_base_completa.groupby(['landing_page_id'])['closed_deal'].count()*100, 2)\n",
    "taxa_conversao_por_pagina"
   ]
  },
  {
   "cell_type": "markdown",
   "metadata": {
    "pycharm": {
     "name": "#%% md\n"
    }
   },
   "source": [
    "<span style=\"color:blue;font-weight:300;font-size:20px\"><b>Receita média por venda/SR"
   ]
  },
  {
   "cell_type": "code",
   "execution_count": 36,
   "metadata": {
    "pycharm": {
     "name": "#%%\n"
    }
   },
   "outputs": [
    {
     "data": {
      "text/html": [
       "<div>\n",
       "<style scoped>\n",
       "    .dataframe tbody tr th:only-of-type {\n",
       "        vertical-align: middle;\n",
       "    }\n",
       "\n",
       "    .dataframe tbody tr th {\n",
       "        vertical-align: top;\n",
       "    }\n",
       "\n",
       "    .dataframe thead tr th {\n",
       "        text-align: left;\n",
       "    }\n",
       "\n",
       "    .dataframe thead tr:last-of-type th {\n",
       "        text-align: right;\n",
       "    }\n",
       "</style>\n",
       "<table border=\"1\" class=\"dataframe\">\n",
       "  <thead>\n",
       "    <tr>\n",
       "      <th></th>\n",
       "      <th>mean</th>\n",
       "    </tr>\n",
       "    <tr>\n",
       "      <th></th>\n",
       "      <th>declared_monthly_revenue</th>\n",
       "    </tr>\n",
       "    <tr>\n",
       "      <th>sr_id</th>\n",
       "      <th></th>\n",
       "    </tr>\n",
       "  </thead>\n",
       "  <tbody>\n",
       "    <tr>\n",
       "      <th>060c0a26f19f4d66b42e0d8796688490</th>\n",
       "      <td>0.00</td>\n",
       "    </tr>\n",
       "    <tr>\n",
       "      <th>068066e24f0c643eb1d089c7dd20cd73</th>\n",
       "      <td>7037.04</td>\n",
       "    </tr>\n",
       "    <tr>\n",
       "      <th>0a0fb2b07d841f84fb6714e35c723075</th>\n",
       "      <td>6000.00</td>\n",
       "    </tr>\n",
       "    <tr>\n",
       "      <th>2695de1affa7750089c0455f8ce27021</th>\n",
       "      <td>1694.92</td>\n",
       "    </tr>\n",
       "    <tr>\n",
       "      <th>34d40cdaf94010a1d05b0d6212f9e909</th>\n",
       "      <td>19000.00</td>\n",
       "    </tr>\n",
       "    <tr>\n",
       "      <th>495d4e95a8cf8bbf8b432b612a2aa328</th>\n",
       "      <td>6666.67</td>\n",
       "    </tr>\n",
       "    <tr>\n",
       "      <th>4b339f9567d060bcea4f5136b9f5949e</th>\n",
       "      <td>27777.78</td>\n",
       "    </tr>\n",
       "    <tr>\n",
       "      <th>4ef15afb4b2723d8f3d81e51ec7afefe</th>\n",
       "      <td>377293.23</td>\n",
       "    </tr>\n",
       "    <tr>\n",
       "      <th>56bf83c4bb35763a51c2baab501b4c67</th>\n",
       "      <td>12500.00</td>\n",
       "    </tr>\n",
       "    <tr>\n",
       "      <th>6565aa9ce3178a5caf6171827af3a9ba</th>\n",
       "      <td>0.00</td>\n",
       "    </tr>\n",
       "    <tr>\n",
       "      <th>6aa3b86a83d784b05f0e37e26b20860d</th>\n",
       "      <td>8000.00</td>\n",
       "    </tr>\n",
       "    <tr>\n",
       "      <th>85fc447d336637ba1df43e793199fbc8</th>\n",
       "      <td>1562.50</td>\n",
       "    </tr>\n",
       "    <tr>\n",
       "      <th>9749123c950bf8363ace42cb1c2d0815</th>\n",
       "      <td>103571.43</td>\n",
       "    </tr>\n",
       "    <tr>\n",
       "      <th>9ae085775a198122c5586fa830ff7f2b</th>\n",
       "      <td>0.00</td>\n",
       "    </tr>\n",
       "    <tr>\n",
       "      <th>9d12ef1a7eca3ec58c545c678af7869c</th>\n",
       "      <td>43333.33</td>\n",
       "    </tr>\n",
       "    <tr>\n",
       "      <th>9e4d1098a3b0f5da39b0bc48f9876645</th>\n",
       "      <td>0.00</td>\n",
       "    </tr>\n",
       "    <tr>\n",
       "      <th>a8387c01a09e99ce014107505b92388c</th>\n",
       "      <td>24038.69</td>\n",
       "    </tr>\n",
       "    <tr>\n",
       "      <th>b90f87164b5f8c2cfa5c8572834dbe3f</th>\n",
       "      <td>0.00</td>\n",
       "    </tr>\n",
       "    <tr>\n",
       "      <th>c638112b43f1d1b86dcabb0da720c901</th>\n",
       "      <td>0.00</td>\n",
       "    </tr>\n",
       "    <tr>\n",
       "      <th>d3d1e91a157ea7f90548eef82f1955e3</th>\n",
       "      <td>4939.02</td>\n",
       "    </tr>\n",
       "    <tr>\n",
       "      <th>de63de0d10a6012430098db33c679b0b</th>\n",
       "      <td>151415.09</td>\n",
       "    </tr>\n",
       "    <tr>\n",
       "      <th>fbf4aef3f6915dc0c3c97d6812522f6a</th>\n",
       "      <td>0.00</td>\n",
       "    </tr>\n",
       "  </tbody>\n",
       "</table>\n",
       "</div>"
      ],
      "text/plain": [
       "                                                     mean\n",
       "                                 declared_monthly_revenue\n",
       "sr_id                                                    \n",
       "060c0a26f19f4d66b42e0d8796688490                     0.00\n",
       "068066e24f0c643eb1d089c7dd20cd73                  7037.04\n",
       "0a0fb2b07d841f84fb6714e35c723075                  6000.00\n",
       "2695de1affa7750089c0455f8ce27021                  1694.92\n",
       "34d40cdaf94010a1d05b0d6212f9e909                 19000.00\n",
       "495d4e95a8cf8bbf8b432b612a2aa328                  6666.67\n",
       "4b339f9567d060bcea4f5136b9f5949e                 27777.78\n",
       "4ef15afb4b2723d8f3d81e51ec7afefe                377293.23\n",
       "56bf83c4bb35763a51c2baab501b4c67                 12500.00\n",
       "6565aa9ce3178a5caf6171827af3a9ba                     0.00\n",
       "6aa3b86a83d784b05f0e37e26b20860d                  8000.00\n",
       "85fc447d336637ba1df43e793199fbc8                  1562.50\n",
       "9749123c950bf8363ace42cb1c2d0815                103571.43\n",
       "9ae085775a198122c5586fa830ff7f2b                     0.00\n",
       "9d12ef1a7eca3ec58c545c678af7869c                 43333.33\n",
       "9e4d1098a3b0f5da39b0bc48f9876645                     0.00\n",
       "a8387c01a09e99ce014107505b92388c                 24038.69\n",
       "b90f87164b5f8c2cfa5c8572834dbe3f                     0.00\n",
       "c638112b43f1d1b86dcabb0da720c901                     0.00\n",
       "d3d1e91a157ea7f90548eef82f1955e3                  4939.02\n",
       "de63de0d10a6012430098db33c679b0b                151415.09\n",
       "fbf4aef3f6915dc0c3c97d6812522f6a                     0.00"
      ]
     },
     "execution_count": 36,
     "metadata": {},
     "output_type": "execute_result"
    }
   ],
   "source": [
    "receita_media_por_venda = np.round(pd.pivot_table(\n",
    "                            df_base_completa,\n",
    "                            values = ['declared_monthly_revenue'],\n",
    "                            index= 'sr_id',\n",
    "                            aggfunc = [np.mean]), 2)\n",
    "receita_media_por_venda"
   ]
  },
  {
   "cell_type": "markdown",
   "metadata": {
    "pycharm": {
     "name": "#%% md\n"
    }
   },
   "source": [
    "<span style=\"color:blue;font-weight:300;font-size:20px\"><b>Número de tipo de negócio convertido/SR"
   ]
  },
  {
   "cell_type": "code",
   "execution_count": 37,
   "metadata": {
    "pycharm": {
     "name": "#%%\n"
    }
   },
   "outputs": [
    {
     "data": {
      "text/html": [
       "<div>\n",
       "<style scoped>\n",
       "    .dataframe tbody tr th:only-of-type {\n",
       "        vertical-align: middle;\n",
       "    }\n",
       "\n",
       "    .dataframe tbody tr th {\n",
       "        vertical-align: top;\n",
       "    }\n",
       "\n",
       "    .dataframe thead th {\n",
       "        text-align: right;\n",
       "    }\n",
       "</style>\n",
       "<table border=\"1\" class=\"dataframe\">\n",
       "  <thead>\n",
       "    <tr style=\"text-align: right;\">\n",
       "      <th>business_type</th>\n",
       "      <th>manufacturer</th>\n",
       "      <th>other</th>\n",
       "      <th>reseller</th>\n",
       "    </tr>\n",
       "    <tr>\n",
       "      <th>sr_id</th>\n",
       "      <th></th>\n",
       "      <th></th>\n",
       "      <th></th>\n",
       "    </tr>\n",
       "  </thead>\n",
       "  <tbody>\n",
       "    <tr>\n",
       "      <th>060c0a26f19f4d66b42e0d8796688490</th>\n",
       "      <td>9.0</td>\n",
       "      <td>NaN</td>\n",
       "      <td>23.0</td>\n",
       "    </tr>\n",
       "    <tr>\n",
       "      <th>068066e24f0c643eb1d089c7dd20cd73</th>\n",
       "      <td>6.0</td>\n",
       "      <td>NaN</td>\n",
       "      <td>21.0</td>\n",
       "    </tr>\n",
       "    <tr>\n",
       "      <th>0a0fb2b07d841f84fb6714e35c723075</th>\n",
       "      <td>NaN</td>\n",
       "      <td>1.0</td>\n",
       "      <td>NaN</td>\n",
       "    </tr>\n",
       "    <tr>\n",
       "      <th>2695de1affa7750089c0455f8ce27021</th>\n",
       "      <td>16.0</td>\n",
       "      <td>NaN</td>\n",
       "      <td>42.0</td>\n",
       "    </tr>\n",
       "    <tr>\n",
       "      <th>34d40cdaf94010a1d05b0d6212f9e909</th>\n",
       "      <td>1.0</td>\n",
       "      <td>1.0</td>\n",
       "      <td>8.0</td>\n",
       "    </tr>\n",
       "    <tr>\n",
       "      <th>495d4e95a8cf8bbf8b432b612a2aa328</th>\n",
       "      <td>14.0</td>\n",
       "      <td>NaN</td>\n",
       "      <td>47.0</td>\n",
       "    </tr>\n",
       "    <tr>\n",
       "      <th>4b339f9567d060bcea4f5136b9f5949e</th>\n",
       "      <td>2.0</td>\n",
       "      <td>NaN</td>\n",
       "      <td>6.0</td>\n",
       "    </tr>\n",
       "    <tr>\n",
       "      <th>4ef15afb4b2723d8f3d81e51ec7afefe</th>\n",
       "      <td>43.0</td>\n",
       "      <td>NaN</td>\n",
       "      <td>90.0</td>\n",
       "    </tr>\n",
       "    <tr>\n",
       "      <th>56bf83c4bb35763a51c2baab501b4c67</th>\n",
       "      <td>8.0</td>\n",
       "      <td>NaN</td>\n",
       "      <td>16.0</td>\n",
       "    </tr>\n",
       "    <tr>\n",
       "      <th>6565aa9ce3178a5caf6171827af3a9ba</th>\n",
       "      <td>19.0</td>\n",
       "      <td>NaN</td>\n",
       "      <td>54.0</td>\n",
       "    </tr>\n",
       "    <tr>\n",
       "      <th>6aa3b86a83d784b05f0e37e26b20860d</th>\n",
       "      <td>NaN</td>\n",
       "      <td>NaN</td>\n",
       "      <td>1.0</td>\n",
       "    </tr>\n",
       "    <tr>\n",
       "      <th>85fc447d336637ba1df43e793199fbc8</th>\n",
       "      <td>25.0</td>\n",
       "      <td>NaN</td>\n",
       "      <td>39.0</td>\n",
       "    </tr>\n",
       "    <tr>\n",
       "      <th>9749123c950bf8363ace42cb1c2d0815</th>\n",
       "      <td>2.0</td>\n",
       "      <td>NaN</td>\n",
       "      <td>5.0</td>\n",
       "    </tr>\n",
       "    <tr>\n",
       "      <th>9ae085775a198122c5586fa830ff7f2b</th>\n",
       "      <td>15.0</td>\n",
       "      <td>NaN</td>\n",
       "      <td>36.0</td>\n",
       "    </tr>\n",
       "    <tr>\n",
       "      <th>9d12ef1a7eca3ec58c545c678af7869c</th>\n",
       "      <td>2.0</td>\n",
       "      <td>NaN</td>\n",
       "      <td>4.0</td>\n",
       "    </tr>\n",
       "    <tr>\n",
       "      <th>9e4d1098a3b0f5da39b0bc48f9876645</th>\n",
       "      <td>10.0</td>\n",
       "      <td>NaN</td>\n",
       "      <td>14.0</td>\n",
       "    </tr>\n",
       "    <tr>\n",
       "      <th>a8387c01a09e99ce014107505b92388c</th>\n",
       "      <td>4.0</td>\n",
       "      <td>1.0</td>\n",
       "      <td>21.0</td>\n",
       "    </tr>\n",
       "    <tr>\n",
       "      <th>b90f87164b5f8c2cfa5c8572834dbe3f</th>\n",
       "      <td>NaN</td>\n",
       "      <td>NaN</td>\n",
       "      <td>1.0</td>\n",
       "    </tr>\n",
       "    <tr>\n",
       "      <th>c638112b43f1d1b86dcabb0da720c901</th>\n",
       "      <td>12.0</td>\n",
       "      <td>NaN</td>\n",
       "      <td>22.0</td>\n",
       "    </tr>\n",
       "    <tr>\n",
       "      <th>d3d1e91a157ea7f90548eef82f1955e3</th>\n",
       "      <td>19.0</td>\n",
       "      <td>NaN</td>\n",
       "      <td>61.0</td>\n",
       "    </tr>\n",
       "    <tr>\n",
       "      <th>de63de0d10a6012430098db33c679b0b</th>\n",
       "      <td>12.0</td>\n",
       "      <td>NaN</td>\n",
       "      <td>40.0</td>\n",
       "    </tr>\n",
       "    <tr>\n",
       "      <th>fbf4aef3f6915dc0c3c97d6812522f6a</th>\n",
       "      <td>23.0</td>\n",
       "      <td>NaN</td>\n",
       "      <td>36.0</td>\n",
       "    </tr>\n",
       "  </tbody>\n",
       "</table>\n",
       "</div>"
      ],
      "text/plain": [
       "business_type                     manufacturer  other  reseller\n",
       "sr_id                                                          \n",
       "060c0a26f19f4d66b42e0d8796688490           9.0    NaN      23.0\n",
       "068066e24f0c643eb1d089c7dd20cd73           6.0    NaN      21.0\n",
       "0a0fb2b07d841f84fb6714e35c723075           NaN    1.0       NaN\n",
       "2695de1affa7750089c0455f8ce27021          16.0    NaN      42.0\n",
       "34d40cdaf94010a1d05b0d6212f9e909           1.0    1.0       8.0\n",
       "495d4e95a8cf8bbf8b432b612a2aa328          14.0    NaN      47.0\n",
       "4b339f9567d060bcea4f5136b9f5949e           2.0    NaN       6.0\n",
       "4ef15afb4b2723d8f3d81e51ec7afefe          43.0    NaN      90.0\n",
       "56bf83c4bb35763a51c2baab501b4c67           8.0    NaN      16.0\n",
       "6565aa9ce3178a5caf6171827af3a9ba          19.0    NaN      54.0\n",
       "6aa3b86a83d784b05f0e37e26b20860d           NaN    NaN       1.0\n",
       "85fc447d336637ba1df43e793199fbc8          25.0    NaN      39.0\n",
       "9749123c950bf8363ace42cb1c2d0815           2.0    NaN       5.0\n",
       "9ae085775a198122c5586fa830ff7f2b          15.0    NaN      36.0\n",
       "9d12ef1a7eca3ec58c545c678af7869c           2.0    NaN       4.0\n",
       "9e4d1098a3b0f5da39b0bc48f9876645          10.0    NaN      14.0\n",
       "a8387c01a09e99ce014107505b92388c           4.0    1.0      21.0\n",
       "b90f87164b5f8c2cfa5c8572834dbe3f           NaN    NaN       1.0\n",
       "c638112b43f1d1b86dcabb0da720c901          12.0    NaN      22.0\n",
       "d3d1e91a157ea7f90548eef82f1955e3          19.0    NaN      61.0\n",
       "de63de0d10a6012430098db33c679b0b          12.0    NaN      40.0\n",
       "fbf4aef3f6915dc0c3c97d6812522f6a          23.0    NaN      36.0"
      ]
     },
     "execution_count": 37,
     "metadata": {},
     "output_type": "execute_result"
    }
   ],
   "source": [
    "df_base_completa.pivot_table(index='sr_id', columns='business_type', values='closed_deal', aggfunc='sum')\n"
   ]
  },
  {
   "cell_type": "markdown",
   "metadata": {
    "pycharm": {
     "name": "#%% md\n"
    }
   },
   "source": [
    "<span style=\"color:blue;font-weight:300;font-size:20px\"><b>Número de lead_behaviour_profile convertido/SR"
   ]
  },
  {
   "cell_type": "code",
   "execution_count": 38,
   "metadata": {
    "pycharm": {
     "name": "#%%\n"
    }
   },
   "outputs": [
    {
     "data": {
      "text/plain": [
       "cat            407\n",
       "eagle          123\n",
       "wolf            95\n",
       "shark           24\n",
       "cat, wolf        8\n",
       "eagle, wolf      3\n",
       "eagle, cat       3\n",
       "shark, cat       1\n",
       "shark, wolf      1\n",
       "Name: lead_behaviour_profile, dtype: int64"
      ]
     },
     "execution_count": 38,
     "metadata": {},
     "output_type": "execute_result"
    }
   ],
   "source": [
    "total_lead_behaviour_convertido = df_base_completa.lead_behaviour_profile.value_counts()\n",
    "total_lead_behaviour_convertido"
   ]
  },
  {
   "cell_type": "markdown",
   "metadata": {
    "pycharm": {
     "name": "#%% md\n"
    }
   },
   "source": [
    "<span style=\"color:blue;font-weight:300;font-size:20px\"><b>Número de lead_types convertidos/SR</b></span>"
   ]
  },
  {
   "cell_type": "code",
   "execution_count": 39,
   "metadata": {
    "pycharm": {
     "name": "#%%\n"
    }
   },
   "outputs": [
    {
     "data": {
      "text/html": [
       "<div>\n",
       "<style scoped>\n",
       "    .dataframe tbody tr th:only-of-type {\n",
       "        vertical-align: middle;\n",
       "    }\n",
       "\n",
       "    .dataframe tbody tr th {\n",
       "        vertical-align: top;\n",
       "    }\n",
       "\n",
       "    .dataframe thead th {\n",
       "        text-align: right;\n",
       "    }\n",
       "</style>\n",
       "<table border=\"1\" class=\"dataframe\">\n",
       "  <thead>\n",
       "    <tr style=\"text-align: right;\">\n",
       "      <th>bhv_profile</th>\n",
       "      <th>cat</th>\n",
       "      <th>eagle</th>\n",
       "      <th>shark</th>\n",
       "      <th>wolf</th>\n",
       "    </tr>\n",
       "    <tr>\n",
       "      <th>sr_id</th>\n",
       "      <th></th>\n",
       "      <th></th>\n",
       "      <th></th>\n",
       "      <th></th>\n",
       "    </tr>\n",
       "  </thead>\n",
       "  <tbody>\n",
       "    <tr>\n",
       "      <th>060c0a26f19f4d66b42e0d8796688490</th>\n",
       "      <td>2.0</td>\n",
       "      <td>NaN</td>\n",
       "      <td>NaN</td>\n",
       "      <td>NaN</td>\n",
       "    </tr>\n",
       "    <tr>\n",
       "      <th>068066e24f0c643eb1d089c7dd20cd73</th>\n",
       "      <td>1.0</td>\n",
       "      <td>1.0</td>\n",
       "      <td>NaN</td>\n",
       "      <td>2.0</td>\n",
       "    </tr>\n",
       "    <tr>\n",
       "      <th>0a0fb2b07d841f84fb6714e35c723075</th>\n",
       "      <td>1.0</td>\n",
       "      <td>NaN</td>\n",
       "      <td>NaN</td>\n",
       "      <td>NaN</td>\n",
       "    </tr>\n",
       "    <tr>\n",
       "      <th>2695de1affa7750089c0455f8ce27021</th>\n",
       "      <td>5.0</td>\n",
       "      <td>NaN</td>\n",
       "      <td>1.0</td>\n",
       "      <td>1.0</td>\n",
       "    </tr>\n",
       "    <tr>\n",
       "      <th>34d40cdaf94010a1d05b0d6212f9e909</th>\n",
       "      <td>2.0</td>\n",
       "      <td>NaN</td>\n",
       "      <td>NaN</td>\n",
       "      <td>1.0</td>\n",
       "    </tr>\n",
       "    <tr>\n",
       "      <th>495d4e95a8cf8bbf8b432b612a2aa328</th>\n",
       "      <td>5.0</td>\n",
       "      <td>NaN</td>\n",
       "      <td>NaN</td>\n",
       "      <td>NaN</td>\n",
       "    </tr>\n",
       "    <tr>\n",
       "      <th>4b339f9567d060bcea4f5136b9f5949e</th>\n",
       "      <td>NaN</td>\n",
       "      <td>NaN</td>\n",
       "      <td>NaN</td>\n",
       "      <td>1.0</td>\n",
       "    </tr>\n",
       "    <tr>\n",
       "      <th>4ef15afb4b2723d8f3d81e51ec7afefe</th>\n",
       "      <td>14.0</td>\n",
       "      <td>4.0</td>\n",
       "      <td>NaN</td>\n",
       "      <td>NaN</td>\n",
       "    </tr>\n",
       "    <tr>\n",
       "      <th>56bf83c4bb35763a51c2baab501b4c67</th>\n",
       "      <td>1.0</td>\n",
       "      <td>1.0</td>\n",
       "      <td>1.0</td>\n",
       "      <td>NaN</td>\n",
       "    </tr>\n",
       "    <tr>\n",
       "      <th>6565aa9ce3178a5caf6171827af3a9ba</th>\n",
       "      <td>9.0</td>\n",
       "      <td>1.0</td>\n",
       "      <td>NaN</td>\n",
       "      <td>NaN</td>\n",
       "    </tr>\n",
       "    <tr>\n",
       "      <th>85fc447d336637ba1df43e793199fbc8</th>\n",
       "      <td>3.0</td>\n",
       "      <td>2.0</td>\n",
       "      <td>NaN</td>\n",
       "      <td>2.0</td>\n",
       "    </tr>\n",
       "    <tr>\n",
       "      <th>9ae085775a198122c5586fa830ff7f2b</th>\n",
       "      <td>3.0</td>\n",
       "      <td>1.0</td>\n",
       "      <td>NaN</td>\n",
       "      <td>1.0</td>\n",
       "    </tr>\n",
       "    <tr>\n",
       "      <th>9e4d1098a3b0f5da39b0bc48f9876645</th>\n",
       "      <td>4.0</td>\n",
       "      <td>1.0</td>\n",
       "      <td>NaN</td>\n",
       "      <td>NaN</td>\n",
       "    </tr>\n",
       "    <tr>\n",
       "      <th>a8387c01a09e99ce014107505b92388c</th>\n",
       "      <td>4.0</td>\n",
       "      <td>NaN</td>\n",
       "      <td>NaN</td>\n",
       "      <td>NaN</td>\n",
       "    </tr>\n",
       "    <tr>\n",
       "      <th>b90f87164b5f8c2cfa5c8572834dbe3f</th>\n",
       "      <td>NaN</td>\n",
       "      <td>NaN</td>\n",
       "      <td>NaN</td>\n",
       "      <td>1.0</td>\n",
       "    </tr>\n",
       "    <tr>\n",
       "      <th>c638112b43f1d1b86dcabb0da720c901</th>\n",
       "      <td>2.0</td>\n",
       "      <td>1.0</td>\n",
       "      <td>NaN</td>\n",
       "      <td>2.0</td>\n",
       "    </tr>\n",
       "    <tr>\n",
       "      <th>d3d1e91a157ea7f90548eef82f1955e3</th>\n",
       "      <td>7.0</td>\n",
       "      <td>2.0</td>\n",
       "      <td>NaN</td>\n",
       "      <td>1.0</td>\n",
       "    </tr>\n",
       "    <tr>\n",
       "      <th>de63de0d10a6012430098db33c679b0b</th>\n",
       "      <td>5.0</td>\n",
       "      <td>NaN</td>\n",
       "      <td>1.0</td>\n",
       "      <td>2.0</td>\n",
       "    </tr>\n",
       "    <tr>\n",
       "      <th>fbf4aef3f6915dc0c3c97d6812522f6a</th>\n",
       "      <td>7.0</td>\n",
       "      <td>NaN</td>\n",
       "      <td>1.0</td>\n",
       "      <td>1.0</td>\n",
       "    </tr>\n",
       "  </tbody>\n",
       "</table>\n",
       "</div>"
      ],
      "text/plain": [
       "bhv_profile                        cat  eagle  shark  wolf\n",
       "sr_id                                                     \n",
       "060c0a26f19f4d66b42e0d8796688490   2.0    NaN    NaN   NaN\n",
       "068066e24f0c643eb1d089c7dd20cd73   1.0    1.0    NaN   2.0\n",
       "0a0fb2b07d841f84fb6714e35c723075   1.0    NaN    NaN   NaN\n",
       "2695de1affa7750089c0455f8ce27021   5.0    NaN    1.0   1.0\n",
       "34d40cdaf94010a1d05b0d6212f9e909   2.0    NaN    NaN   1.0\n",
       "495d4e95a8cf8bbf8b432b612a2aa328   5.0    NaN    NaN   NaN\n",
       "4b339f9567d060bcea4f5136b9f5949e   NaN    NaN    NaN   1.0\n",
       "4ef15afb4b2723d8f3d81e51ec7afefe  14.0    4.0    NaN   NaN\n",
       "56bf83c4bb35763a51c2baab501b4c67   1.0    1.0    1.0   NaN\n",
       "6565aa9ce3178a5caf6171827af3a9ba   9.0    1.0    NaN   NaN\n",
       "85fc447d336637ba1df43e793199fbc8   3.0    2.0    NaN   2.0\n",
       "9ae085775a198122c5586fa830ff7f2b   3.0    1.0    NaN   1.0\n",
       "9e4d1098a3b0f5da39b0bc48f9876645   4.0    1.0    NaN   NaN\n",
       "a8387c01a09e99ce014107505b92388c   4.0    NaN    NaN   NaN\n",
       "b90f87164b5f8c2cfa5c8572834dbe3f   NaN    NaN    NaN   1.0\n",
       "c638112b43f1d1b86dcabb0da720c901   2.0    1.0    NaN   2.0\n",
       "d3d1e91a157ea7f90548eef82f1955e3   7.0    2.0    NaN   1.0\n",
       "de63de0d10a6012430098db33c679b0b   5.0    NaN    1.0   2.0\n",
       "fbf4aef3f6915dc0c3c97d6812522f6a   7.0    NaN    1.0   1.0"
      ]
     },
     "execution_count": 39,
     "metadata": {},
     "output_type": "execute_result"
    }
   ],
   "source": [
    "lead_types_convertidos_por_sr = df_base_completa.assign\\\n",
    "    (bhv_profile = df_base_completa.lead_behaviour_profile.str.split(',')\n",
    "     .explode('bhv_profile')).pivot_table(index='sr_id',\n",
    "                                          columns='bhv_profile',\n",
    "                                          values='closed_deal',\n",
    "                                          aggfunc='sum')\n",
    "lead_types_convertidos_por_sr\n"
   ]
  }
 ],
 "metadata": {
  "kernelspec": {
   "display_name": "Python 3 (ipykernel)",
   "language": "python",
   "name": "python3"
  },
  "language_info": {
   "codemirror_mode": {
    "name": "ipython",
    "version": 3
   },
   "file_extension": ".py",
   "mimetype": "text/x-python",
   "name": "python",
   "nbconvert_exporter": "python",
   "pygments_lexer": "ipython3",
   "version": "3.9.7"
  }
 },
 "nbformat": 4,
 "nbformat_minor": 1
}