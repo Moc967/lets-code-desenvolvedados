{
 "cells": [
  {
   "cell_type": "markdown",
   "source": [
    "<h1><span style=\"color:blue;font-weight:700;font-size:24px\">\n",
    "Olist Market Funnel Analysis\n",
    "</span></h1>\n",
    "\n",
    "___\n",
    "\n",
    "<span style=\"color:gray;font-weight:350;font-size:16px\">\n",
    "<br>\n",
    "Este projeto tem por objetivo realizar uma análise exploratória dos dados disponibilizados pela plataforma Olist que conecta negócios pequenos e de médio porte com os diversos marketplaces no Brasil.</span>\n",
    "<br><br>\n",
    "\n",
    "[Brazilian E-Commerce Public Dataset by Olist](https://www.kaggle.com/datasets/olistbr/brazilian-ecommerce)\n",
    "\n",
    "---"
   ],
   "metadata": {
    "collapsed": false,
    "pycharm": {
     "name": "#%% md\n"
    }
   }
  },
  {
   "cell_type": "markdown",
   "source": [
    "<h2><span style=\"color:blue;font-weight:700;font-size:24px\">\n",
    "Questões a serem respondidas\n",
    "</span></h2>\n",
    "<br><br>\n",
    "\n",
    "<span style=\"color:gray;font-weight:350;font-size:18px\">\n",
    "<ol>\n",
    "    <li>Qual foi a taxa de conversão total?</li>\n",
    "    <li>Qual foi a taxa de conversão de cada origem?</li>\n",
    "    <li>Qual foi a taxa de conversão de cada página inicial?</li>\n",
    "    <li>Para cada SR, qual a receita média declarada dos leads?</li>\n",
    "    <li>Para cada SR, quantos de cada business_type a pessoa converteu?</li>\n",
    "    <li>Para cada SR, quantos de cada lead_behaviour_profile a pessoa converteu?</li>\n",
    "    <li>Para cada SR, quantos de cada lead_type a pessoa converteu?</li>\n",
    "</ol>\n",
    "<br>\n",
    "    \n",
    "---"
   ],
   "metadata": {
    "collapsed": false,
    "pycharm": {
     "name": "#%% md\n"
    }
   }
  },
  {
   "cell_type": "markdown",
   "source": [
    "<span style=\"color:green; font-weight:300;font-size:24px\">\n",
    "<b>\n",
    "Importando as bibliotecas\n",
    "</b></span>\n"
   ],
   "metadata": {
    "collapsed": false,
    "pycharm": {
     "name": "#%% md\n"
    }
   }
  },
  {
   "cell_type": "code",
   "execution_count": null,
   "outputs": [],
   "source": [
    "import pandas as pd\n",
    "import numpy as np\n",
    "import matplotlib.pyplot as plt\n",
    "import seaborn as sns\n",
    "import os\n",
    "from pathlib import Path\n",
    "print(\"**** Importação de bibliotecas com sucesso! ****\")"
   ],
   "metadata": {
    "collapsed": false,
    "pycharm": {
     "name": "#%%\n"
    }
   }
  },
  {
   "cell_type": "markdown",
   "source": [
    "<span style=\"color:green; font-weight:300;font-size:24px\"><b>Funções básicas </b></span>"
   ],
   "metadata": {
    "collapsed": false,
    "pycharm": {
     "name": "#%% md\n"
    }
   }
  },
  {
   "cell_type": "code",
   "execution_count": null,
   "outputs": [],
   "source": [
    "def caminho_dos_dados(projeto):\n",
    "    '''\n",
    "    Função que retorna o caminho dos dados atual acrescido do nome do projeto\n",
    "    '''\n",
    "    return str(Path(os.getcwd()).parent) + '/data'+ projeto\n",
    "\n",
    "def criar_dataframe(projeto, arquivo):\n",
    "    '''\n",
    "    Função para criar um dataframe a partir de um arquivo csv e projeto específico\n",
    "    '''\n",
    "    df = pd.read_csv(caminho_dos_dados(projeto) + '/' + arquivo)\n",
    "    return df\n",
    "\n",
    "print(\"**** Funções criadas com sucesso! ****\")"
   ],
   "metadata": {
    "collapsed": false,
    "pycharm": {
     "name": "#%%\n"
    }
   }
  },
  {
   "cell_type": "markdown",
   "source": [
    "<span style=\"color:green; font-weight:300;font-size:24px\"><b>Importando os dados</b></span><br>\n",
    "\n",
    "---\n",
    "\n",
    "<span style=\"color:blue;font-weight:300;font-size:20px\"><b>Importando propostas convertidas em venda</b></span><br>"
   ],
   "metadata": {
    "collapsed": false,
    "pycharm": {
     "name": "#%% md\n"
    }
   }
  },
  {
   "cell_type": "code",
   "execution_count": null,
   "outputs": [],
   "source": [
    "projeto = '/olist_mkt_funnel'\n",
    "arquivo = 'olist_closed_deals_dataset.csv'\n",
    "df_vendas_convertidas = criar_dataframe(projeto , arquivo)\n",
    "df_vendas_convertidas.head(4)"
   ],
   "metadata": {
    "collapsed": false,
    "pycharm": {
     "name": "#%%\n"
    }
   }
  },
  {
   "cell_type": "code",
   "execution_count": null,
   "outputs": [],
   "source": [
    "info_vendas_convertidas = df_vendas_convertidas.info()\n",
    "list(df_vendas_convertidas)\n",
    "df_vendas_convertidas.nunique()"
   ],
   "metadata": {
    "collapsed": false,
    "pycharm": {
     "name": "#%%\n"
    }
   }
  },
  {
   "cell_type": "markdown",
   "source": [
    "<span style=\"color:blue;font-weight:300;font-size:20px\"><b>Importando as oportunidades de negócio</span></b><br>"
   ],
   "metadata": {
    "collapsed": false,
    "pycharm": {
     "name": "#%% md\n"
    }
   }
  },
  {
   "cell_type": "code",
   "execution_count": null,
   "metadata": {
    "pycharm": {
     "name": "#%%\n"
    }
   },
   "outputs": [],
   "source": [
    "arquivo = 'olist_marketing_qualified_leads_dataset.csv'\n",
    "df_todas_propostas = criar_dataframe(projeto , arquivo)\n",
    "df_todas_propostas.head(4)"
   ]
  },
  {
   "cell_type": "code",
   "execution_count": null,
   "metadata": {
    "pycharm": {
     "name": "#%%\n"
    }
   },
   "outputs": [],
   "source": [
    "info_todas_propostas = df_todas_propostas.info()\n",
    "list(df_todas_propostas)\n"
   ]
  },
  {
   "cell_type": "markdown",
   "metadata": {
    "pycharm": {
     "name": "#%% md\n"
    }
   },
   "source": [
    "<span style=\"color:blue;font-weight:300;font-size:20px\"><b>Criando uma base única</b></span>"
   ]
  },
  {
   "cell_type": "code",
   "execution_count": null,
   "metadata": {
    "pycharm": {
     "name": "#%%\n"
    }
   },
   "outputs": [],
   "source": [
    "df_base_completa = df_todas_propostas.merge(df_vendas_convertidas, on = ['mql_id'], how = 'left').copy()\n",
    "df_base_completa.info()"
   ]
  },
  {
   "cell_type": "code",
   "execution_count": null,
   "metadata": {
    "pycharm": {
     "name": "#%%\n"
    }
   },
   "outputs": [],
   "source": [
    "# Vamos verificar se existem registros duplicados no dataframe completo.\n",
    "\n",
    "registros_duplicados = df_base_completa.duplicated()\n",
    "registros_duplicados.sum()"
   ]
  },
  {
   "cell_type": "code",
   "execution_count": null,
   "metadata": {
    "pycharm": {
     "name": "#%%\n"
    }
   },
   "outputs": [],
   "source": [
    "# Criando uma coluna adicional para identificar as vendas fechadas.\n",
    "df_base_completa['closed_deal'] = np.where(df_base_completa['won_date'].isnull(), 0, 1)\n",
    "df_base_completa.head(5)"
   ]
  },
  {
   "cell_type": "markdown",
   "metadata": {
    "pycharm": {
     "name": "#%% md\n"
    }
   },
   "source": [
    "<span style=\"color:blue;font-weight:300;font-size:20px\"><b>Taxa de conversão total</b></span>"
   ]
  },
  {
   "cell_type": "code",
   "execution_count": null,
   "metadata": {
    "pycharm": {
     "name": "#%%\n"
    }
   },
   "outputs": [],
   "source": [
    "taxa_conversao_total = df_base_completa.closed_deal.sum()/df_base_completa.shape[0]*100\n",
    "print(f'**** Taxa de conversão total= {taxa_conversao_total:.2f}% ****')"
   ]
  },
  {
   "cell_type": "markdown",
   "metadata": {
    "pycharm": {
     "name": "#%% md\n"
    }
   },
   "source": [
    "<span style=\"color:blue;font-weight:300;font-size:20px\"><b>Taxa de conversão por Origem</b></span>"
   ]
  },
  {
   "cell_type": "code",
   "execution_count": null,
   "metadata": {
    "pycharm": {
     "name": "#%%\n"
    }
   },
   "outputs": [],
   "source": [
    "taxa_conversao_por_origem = np.round(df_base_completa.groupby(['origin'])['closed_deal'].sum()/df_base_completa.groupby(['origin'])['closed_deal'].count()*100, 2)\n",
    "taxa_conversao_por_origem"
   ]
  },
  {
   "cell_type": "markdown",
   "metadata": {
    "pycharm": {
     "name": "#%% md\n"
    }
   },
   "source": [
    "<span style=\"color:blue;font-weight:300;font-size:20px\"><b>Taxa de conversão por Página Inicial</b></span>"
   ]
  },
  {
   "cell_type": "code",
   "execution_count": null,
   "metadata": {
    "pycharm": {
     "name": "#%%\n"
    }
   },
   "outputs": [],
   "source": [
    "taxa_conversao_por_pagina = np.round(df_base_completa.groupby(['landing_page_id'])['closed_deal'].sum()/df_base_completa.groupby(['landing_page_id'])['closed_deal'].count()*100, 2)\n",
    "taxa_conversao_por_pagina"
   ]
  },
  {
   "cell_type": "markdown",
   "metadata": {
    "pycharm": {
     "name": "#%% md\n"
    }
   },
   "source": [
    "<span style=\"color:blue;font-weight:300;font-size:20px\"><b>Taxa de conversão por Página Inicial</b></span>"
   ]
  }
 ],
 "metadata": {
  "kernelspec": {
   "display_name": "Python 3 (ipykernel)",
   "language": "python",
   "name": "python3"
  },
  "language_info": {
   "codemirror_mode": {
    "name": "ipython",
    "version": 3
   },
   "file_extension": ".py",
   "mimetype": "text/x-python",
   "name": "python",
   "nbconvert_exporter": "python",
   "pygments_lexer": "ipython3",
   "version": "3.9.7"
  }
 },
 "nbformat": 4,
 "nbformat_minor": 1
}