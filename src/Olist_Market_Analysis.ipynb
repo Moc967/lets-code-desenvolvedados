{
 "cells": [
  {
   "cell_type": "markdown",
   "source": [],
   "metadata": {
    "collapsed": false,
    "pycharm": {
     "name": "#%% md\n"
    }
   }
  },
  {
   "cell_type": "markdown",
   "source": [
    "<h1><span style=\"color:blue;font-weight:700;font-size:24px\">\n",
    "Olist Market Funnel Analysis\n",
    "</span></h1>\n",
    "\n",
    "___\n",
    "\n",
    "<span style=\"color:gray;font-weight:300;font-size:16px\">\n",
    "<br>\n",
    "Este projeto tem por objetivo realizar uma análise exploratória dos dados disponibilizados pela plataforma Olist que conecta negócios pequenos e de médio porte com os diversos marketplaces no Brasil.\n",
    "</span>"
   ],
   "metadata": {
    "collapsed": false,
    "pycharm": {
     "name": "#%% md\n"
    }
   }
  },
  {
   "cell_type": "markdown",
   "source": [
    "### Importando as bibliotecas"
   ],
   "metadata": {
    "collapsed": false,
    "pycharm": {
     "name": "#%% md\n"
    }
   }
  },
  {
   "cell_type": "code",
   "execution_count": 11,
   "outputs": [
    {
     "name": "stdout",
     "output_type": "stream",
     "text": [
      "**** Importação de bibliotecas com sucesso! ****\n"
     ]
    }
   ],
   "source": [
    "import pandas as pd\n",
    "import numpy as np\n",
    "import matplotlib.pyplot as plt\n",
    "import seaborn as sns\n",
    "print(\"**** Importação de bibliotecas com sucesso! ****\")"
   ],
   "metadata": {
    "collapsed": false,
    "pycharm": {
     "name": "#%%\n"
    }
   }
  },
  {
   "cell_type": "markdown",
   "source": [
    "### Importando os dados"
   ],
   "metadata": {
    "collapsed": false,
    "pycharm": {
     "name": "#%% md\n"
    }
   }
  },
  {
   "cell_type": "code",
   "execution_count": 12,
   "outputs": [
    {
     "data": {
      "text/plain": "                             mql_id                         seller_id  \\\n0  5420aad7fec3549a85876ba1c529bd84  2c43fb513632d29b3b58df74816f1b06   \n1  a555fb36b9368110ede0f043dfc3b9a0  bbb7d7893a450660432ea6652310ebb7   \n2  327174d3648a2d047e8940d7d15204ca  612170e34b97004b3ba37eae81836b4c   \n3  f5fee8f7da74f4887f5bcae2bafb6dd6  21e1781e36faf92725dde4730a88ca0f   \n4  ffe640179b554e295c167a2f6be528e0  ed8cb7b190ceb6067227478e48cf8dde   \n\n                             sdr_id                             sr_id  \\\n0  a8387c01a09e99ce014107505b92388c  4ef15afb4b2723d8f3d81e51ec7afefe   \n1  09285259593c61296eef10c734121d5b  d3d1e91a157ea7f90548eef82f1955e3   \n2  b90f87164b5f8c2cfa5c8572834dbe3f  6565aa9ce3178a5caf6171827af3a9ba   \n3  56bf83c4bb35763a51c2baab501b4c67  d3d1e91a157ea7f90548eef82f1955e3   \n4  4b339f9567d060bcea4f5136b9f5949e  d3d1e91a157ea7f90548eef82f1955e3   \n\n              won_date business_segment      lead_type lead_behaviour_profile  \\\n0  2018-02-26 19:58:54              pet  online_medium                    cat   \n1  2018-05-08 20:17:59  car_accessories       industry                  eagle   \n2  2018-06-05 17:27:23  home_appliances     online_big                    cat   \n3  2018-01-17 13:51:03       food_drink   online_small                    NaN   \n4  2018-07-03 20:17:45  home_appliances       industry                   wolf   \n\n  has_company has_gtin average_stock business_type  \\\n0         NaN      NaN           NaN      reseller   \n1         NaN      NaN           NaN      reseller   \n2         NaN      NaN           NaN      reseller   \n3         NaN      NaN           NaN      reseller   \n4         NaN      NaN           NaN  manufacturer   \n\n   declared_product_catalog_size  declared_monthly_revenue  \n0                            NaN                       0.0  \n1                            NaN                       0.0  \n2                            NaN                       0.0  \n3                            NaN                       0.0  \n4                            NaN                       0.0  ",
      "text/html": "<div>\n<style scoped>\n    .dataframe tbody tr th:only-of-type {\n        vertical-align: middle;\n    }\n\n    .dataframe tbody tr th {\n        vertical-align: top;\n    }\n\n    .dataframe thead th {\n        text-align: right;\n    }\n</style>\n<table border=\"1\" class=\"dataframe\">\n  <thead>\n    <tr style=\"text-align: right;\">\n      <th></th>\n      <th>mql_id</th>\n      <th>seller_id</th>\n      <th>sdr_id</th>\n      <th>sr_id</th>\n      <th>won_date</th>\n      <th>business_segment</th>\n      <th>lead_type</th>\n      <th>lead_behaviour_profile</th>\n      <th>has_company</th>\n      <th>has_gtin</th>\n      <th>average_stock</th>\n      <th>business_type</th>\n      <th>declared_product_catalog_size</th>\n      <th>declared_monthly_revenue</th>\n    </tr>\n  </thead>\n  <tbody>\n    <tr>\n      <th>0</th>\n      <td>5420aad7fec3549a85876ba1c529bd84</td>\n      <td>2c43fb513632d29b3b58df74816f1b06</td>\n      <td>a8387c01a09e99ce014107505b92388c</td>\n      <td>4ef15afb4b2723d8f3d81e51ec7afefe</td>\n      <td>2018-02-26 19:58:54</td>\n      <td>pet</td>\n      <td>online_medium</td>\n      <td>cat</td>\n      <td>NaN</td>\n      <td>NaN</td>\n      <td>NaN</td>\n      <td>reseller</td>\n      <td>NaN</td>\n      <td>0.0</td>\n    </tr>\n    <tr>\n      <th>1</th>\n      <td>a555fb36b9368110ede0f043dfc3b9a0</td>\n      <td>bbb7d7893a450660432ea6652310ebb7</td>\n      <td>09285259593c61296eef10c734121d5b</td>\n      <td>d3d1e91a157ea7f90548eef82f1955e3</td>\n      <td>2018-05-08 20:17:59</td>\n      <td>car_accessories</td>\n      <td>industry</td>\n      <td>eagle</td>\n      <td>NaN</td>\n      <td>NaN</td>\n      <td>NaN</td>\n      <td>reseller</td>\n      <td>NaN</td>\n      <td>0.0</td>\n    </tr>\n    <tr>\n      <th>2</th>\n      <td>327174d3648a2d047e8940d7d15204ca</td>\n      <td>612170e34b97004b3ba37eae81836b4c</td>\n      <td>b90f87164b5f8c2cfa5c8572834dbe3f</td>\n      <td>6565aa9ce3178a5caf6171827af3a9ba</td>\n      <td>2018-06-05 17:27:23</td>\n      <td>home_appliances</td>\n      <td>online_big</td>\n      <td>cat</td>\n      <td>NaN</td>\n      <td>NaN</td>\n      <td>NaN</td>\n      <td>reseller</td>\n      <td>NaN</td>\n      <td>0.0</td>\n    </tr>\n    <tr>\n      <th>3</th>\n      <td>f5fee8f7da74f4887f5bcae2bafb6dd6</td>\n      <td>21e1781e36faf92725dde4730a88ca0f</td>\n      <td>56bf83c4bb35763a51c2baab501b4c67</td>\n      <td>d3d1e91a157ea7f90548eef82f1955e3</td>\n      <td>2018-01-17 13:51:03</td>\n      <td>food_drink</td>\n      <td>online_small</td>\n      <td>NaN</td>\n      <td>NaN</td>\n      <td>NaN</td>\n      <td>NaN</td>\n      <td>reseller</td>\n      <td>NaN</td>\n      <td>0.0</td>\n    </tr>\n    <tr>\n      <th>4</th>\n      <td>ffe640179b554e295c167a2f6be528e0</td>\n      <td>ed8cb7b190ceb6067227478e48cf8dde</td>\n      <td>4b339f9567d060bcea4f5136b9f5949e</td>\n      <td>d3d1e91a157ea7f90548eef82f1955e3</td>\n      <td>2018-07-03 20:17:45</td>\n      <td>home_appliances</td>\n      <td>industry</td>\n      <td>wolf</td>\n      <td>NaN</td>\n      <td>NaN</td>\n      <td>NaN</td>\n      <td>manufacturer</td>\n      <td>NaN</td>\n      <td>0.0</td>\n    </tr>\n  </tbody>\n</table>\n</div>"
     },
     "execution_count": 12,
     "metadata": {},
     "output_type": "execute_result"
    }
   ],
   "source": [
    "df_closed_deals = pd.read_csv('/Users/magnovaldo/Documents/Training/lets_code/ds_boticario/lets_pipe/data/olist_mkt_funnel/olist_closed_deals_dataset.csv')\n",
    "\n",
    "df_closed_deals.head()"
   ],
   "metadata": {
    "collapsed": false,
    "pycharm": {
     "name": "#%%\n"
    }
   }
  },
  {
   "cell_type": "code",
   "execution_count": 13,
   "outputs": [
    {
     "name": "stdout",
     "output_type": "stream",
     "text": [
      "<class 'pandas.core.frame.DataFrame'>\n",
      "RangeIndex: 842 entries, 0 to 841\n",
      "Data columns (total 14 columns):\n",
      " #   Column                         Non-Null Count  Dtype  \n",
      "---  ------                         --------------  -----  \n",
      " 0   mql_id                         842 non-null    object \n",
      " 1   seller_id                      842 non-null    object \n",
      " 2   sdr_id                         842 non-null    object \n",
      " 3   sr_id                          842 non-null    object \n",
      " 4   won_date                       842 non-null    object \n",
      " 5   business_segment               841 non-null    object \n",
      " 6   lead_type                      836 non-null    object \n",
      " 7   lead_behaviour_profile         665 non-null    object \n",
      " 8   has_company                    63 non-null     object \n",
      " 9   has_gtin                       64 non-null     object \n",
      " 10  average_stock                  66 non-null     object \n",
      " 11  business_type                  832 non-null    object \n",
      " 12  declared_product_catalog_size  69 non-null     float64\n",
      " 13  declared_monthly_revenue       842 non-null    float64\n",
      "dtypes: float64(2), object(12)\n",
      "memory usage: 92.2+ KB\n"
     ]
    }
   ],
   "source": [
    "df_closed_deals.info()"
   ],
   "metadata": {
    "collapsed": false,
    "pycharm": {
     "name": "#%%\n"
    }
   }
  },
  {
   "cell_type": "code",
   "execution_count": 16,
   "outputs": [
    {
     "data": {
      "text/plain": "                             mql_id first_contact_date  \\\n0  dac32acd4db4c29c230538b72f8dd87d         2018-02-01   \n1  8c18d1de7f67e60dbd64e3c07d7e9d5d         2017-10-20   \n2  b4bc852d233dfefc5131f593b538befa         2018-03-22   \n3  6be030b81c75970747525b843c1ef4f8         2018-01-22   \n4  5420aad7fec3549a85876ba1c529bd84         2018-02-21   \n\n                    landing_page_id          origin  \n0  88740e65d5d6b056e0cda098e1ea6313          social  \n1  007f9098284a86ee80ddeb25d53e0af8     paid_search  \n2  a7982125ff7aa3b2054c6e44f9d28522  organic_search  \n3  d45d558f0daeecf3cccdffe3c59684aa           email  \n4  b48ec5f3b04e9068441002a19df93c6c  organic_search  ",
      "text/html": "<div>\n<style scoped>\n    .dataframe tbody tr th:only-of-type {\n        vertical-align: middle;\n    }\n\n    .dataframe tbody tr th {\n        vertical-align: top;\n    }\n\n    .dataframe thead th {\n        text-align: right;\n    }\n</style>\n<table border=\"1\" class=\"dataframe\">\n  <thead>\n    <tr style=\"text-align: right;\">\n      <th></th>\n      <th>mql_id</th>\n      <th>first_contact_date</th>\n      <th>landing_page_id</th>\n      <th>origin</th>\n    </tr>\n  </thead>\n  <tbody>\n    <tr>\n      <th>0</th>\n      <td>dac32acd4db4c29c230538b72f8dd87d</td>\n      <td>2018-02-01</td>\n      <td>88740e65d5d6b056e0cda098e1ea6313</td>\n      <td>social</td>\n    </tr>\n    <tr>\n      <th>1</th>\n      <td>8c18d1de7f67e60dbd64e3c07d7e9d5d</td>\n      <td>2017-10-20</td>\n      <td>007f9098284a86ee80ddeb25d53e0af8</td>\n      <td>paid_search</td>\n    </tr>\n    <tr>\n      <th>2</th>\n      <td>b4bc852d233dfefc5131f593b538befa</td>\n      <td>2018-03-22</td>\n      <td>a7982125ff7aa3b2054c6e44f9d28522</td>\n      <td>organic_search</td>\n    </tr>\n    <tr>\n      <th>3</th>\n      <td>6be030b81c75970747525b843c1ef4f8</td>\n      <td>2018-01-22</td>\n      <td>d45d558f0daeecf3cccdffe3c59684aa</td>\n      <td>email</td>\n    </tr>\n    <tr>\n      <th>4</th>\n      <td>5420aad7fec3549a85876ba1c529bd84</td>\n      <td>2018-02-21</td>\n      <td>b48ec5f3b04e9068441002a19df93c6c</td>\n      <td>organic_search</td>\n    </tr>\n  </tbody>\n</table>\n</div>"
     },
     "execution_count": 16,
     "metadata": {},
     "output_type": "execute_result"
    }
   ],
   "source": [
    "\n",
    "df_mql = pd.read_csv('/Users/magnovaldo/Documents/Training/lets_code/ds_boticario/lets_pipe/data/olist_mkt_funnel/olist_marketing_qualified_leads_dataset.csv')\n",
    "\n",
    "df_mql.head()"
   ],
   "metadata": {
    "collapsed": false,
    "pycharm": {
     "name": "#%%\n"
    }
   }
  },
  {
   "cell_type": "code",
   "execution_count": 17,
   "outputs": [
    {
     "name": "stdout",
     "output_type": "stream",
     "text": [
      "<class 'pandas.core.frame.DataFrame'>\n",
      "RangeIndex: 8000 entries, 0 to 7999\n",
      "Data columns (total 4 columns):\n",
      " #   Column              Non-Null Count  Dtype \n",
      "---  ------              --------------  ----- \n",
      " 0   mql_id              8000 non-null   object\n",
      " 1   first_contact_date  8000 non-null   object\n",
      " 2   landing_page_id     8000 non-null   object\n",
      " 3   origin              7940 non-null   object\n",
      "dtypes: object(4)\n",
      "memory usage: 250.1+ KB\n"
     ]
    }
   ],
   "source": [
    "df_mql.info()"
   ],
   "metadata": {
    "collapsed": false,
    "pycharm": {
     "name": "#%%\n"
    }
   }
  }
 ],
 "metadata": {
  "kernelspec": {
   "display_name": "Python 3",
   "language": "python",
   "name": "python3"
  },
  "language_info": {
   "codemirror_mode": {
    "name": "ipython",
    "version": 2
   },
   "file_extension": ".py",
   "mimetype": "text/x-python",
   "name": "python",
   "nbconvert_exporter": "python",
   "pygments_lexer": "ipython2",
   "version": "2.7.6"
  }
 },
 "nbformat": 4,
 "nbformat_minor": 0
}