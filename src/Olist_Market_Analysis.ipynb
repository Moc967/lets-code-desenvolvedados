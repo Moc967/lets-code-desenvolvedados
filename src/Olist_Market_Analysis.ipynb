{
 "cells": [
  {
   "cell_type": "markdown",
   "source": [],
   "metadata": {
    "collapsed": false,
    "pycharm": {
     "name": "#%% md\n"
    }
   }
  },
  {
   "cell_type": "markdown",
   "source": [
    "<h1><span style=\"color:blue;font-weight:700;font-size:24px\">\n",
    "Olist Market Funnel Analysis\n",
    "</span></h1>\n",
    "\n",
    "___\n",
    "\n",
    "<span style=\"color:gray;font-weight:300;font-size:16px\">\n",
    "<br>\n",
    "Este projeto tem por objetivo realizar uma análise exploratória dos dados disponibilizados pela plataforma Olist que conecta negócios pequenos e de médio porte com os diversos marketplaces no Brasil.\n",
    "</span>"
   ],
   "metadata": {
    "collapsed": false,
    "pycharm": {
     "name": "#%% md\n"
    }
   }
  },
  {
   "cell_type": "markdown",
   "source": [
    "<h2><span style=\"color:blue;font-weight:700;font-size:24px\">\n",
    "Questões a serem respondidas\n",
    "</span></h2>\n",
    "\n",
    "Qual foi a taxa de conversão total?\n",
    "Qual foi a taxa de conversão de cada origem?\n",
    "Qual foi a taxa de conversão de cada página inicial?\n",
    "Para cada SR, qual a receita média declarada dos leads?\n",
    "\n",
    "Para cada SR, quantos de cada business_type a pessoa converteu?\n",
    "Para cada SR, quantos de cada lead_behaviour_profile a pessoa converteu?\n",
    "Para cada SR, quantos de cada lead_type a pessoa converteu?"
   ],
   "metadata": {
    "collapsed": false,
    "pycharm": {
     "name": "#%% md\n"
    }
   }
  },
  {
   "cell_type": "markdown",
   "source": [
    "<span style=\"color:green; font-weight:300;font-size:24px\">\n",
    "<b>\n",
    "Importando as bibliotecas\n",
    "</b></span>\n"
   ],
   "metadata": {
    "collapsed": false,
    "pycharm": {
     "name": "#%% md\n"
    }
   }
  },
  {
   "cell_type": "code",
   "execution_count": 89,
   "outputs": [
    {
     "name": "stdout",
     "output_type": "stream",
     "text": [
      "**** Importação de bibliotecas com sucesso! ****\n"
     ]
    }
   ],
   "source": [
    "import pandas as pd\n",
    "import numpy as np\n",
    "import matplotlib.pyplot as plt\n",
    "import seaborn as sns\n",
    "import os\n",
    "from pathlib import Path\n",
    "print(\"**** Importação de bibliotecas com sucesso! ****\")"
   ],
   "metadata": {
    "collapsed": false,
    "pycharm": {
     "name": "#%%\n"
    }
   }
  },
  {
   "cell_type": "markdown",
   "source": [
    "<span style=\"color:green; font-weight:300;font-size:24px\"><b>Funções básicas </b></span>"
   ],
   "metadata": {
    "collapsed": false,
    "pycharm": {
     "name": "#%% md\n"
    }
   }
  },
  {
   "cell_type": "code",
   "execution_count": 90,
   "outputs": [
    {
     "name": "stdout",
     "output_type": "stream",
     "text": [
      "**** Funções criadas com sucesso! ****\n"
     ]
    }
   ],
   "source": [
    "def caminho_dos_dados(projeto):\n",
    "    '''\n",
    "    Função que retorna o caminho dos dados atual acrescido do nome do projeto\n",
    "    '''\n",
    "    return str(Path(os.getcwd()).parent) + '/data'+ projeto\n",
    "\n",
    "def criar_dataframe(projeto, arquivo):\n",
    "    '''\n",
    "    Função para criar um dataframe a partir de um arquivo csv e projeto específico\n",
    "    '''\n",
    "    df = pd.read_csv(caminho_dos_dados(projeto) + '/' + arquivo)\n",
    "    return df\n",
    "\n",
    "print(\"**** Funções criadas com sucesso! ****\")"
   ],
   "metadata": {
    "collapsed": false,
    "pycharm": {
     "name": "#%%\n"
    }
   }
  },
  {
   "cell_type": "markdown",
   "source": [
    "<span style=\"color:green; font-weight:300;font-size:24px\"><b>Importando os dados</b></span><br>\n",
    "<span style=\"color:blue;font-weight:300;font-size:20px\"><b>Importando propostas convertidas em venda</b></span><br>"
   ],
   "metadata": {
    "collapsed": false,
    "pycharm": {
     "name": "#%% md\n"
    }
   },
   "outputs": []
  },
  {
   "cell_type": "code",
   "execution_count": 91,
   "outputs": [
    {
     "data": {
      "text/plain": "                             mql_id                         seller_id  \\\n0  5420aad7fec3549a85876ba1c529bd84  2c43fb513632d29b3b58df74816f1b06   \n1  a555fb36b9368110ede0f043dfc3b9a0  bbb7d7893a450660432ea6652310ebb7   \n2  327174d3648a2d047e8940d7d15204ca  612170e34b97004b3ba37eae81836b4c   \n3  f5fee8f7da74f4887f5bcae2bafb6dd6  21e1781e36faf92725dde4730a88ca0f   \n\n                             sdr_id                             sr_id  \\\n0  a8387c01a09e99ce014107505b92388c  4ef15afb4b2723d8f3d81e51ec7afefe   \n1  09285259593c61296eef10c734121d5b  d3d1e91a157ea7f90548eef82f1955e3   \n2  b90f87164b5f8c2cfa5c8572834dbe3f  6565aa9ce3178a5caf6171827af3a9ba   \n3  56bf83c4bb35763a51c2baab501b4c67  d3d1e91a157ea7f90548eef82f1955e3   \n\n              won_date business_segment      lead_type lead_behaviour_profile  \\\n0  2018-02-26 19:58:54              pet  online_medium                    cat   \n1  2018-05-08 20:17:59  car_accessories       industry                  eagle   \n2  2018-06-05 17:27:23  home_appliances     online_big                    cat   \n3  2018-01-17 13:51:03       food_drink   online_small                    NaN   \n\n  has_company has_gtin average_stock business_type  \\\n0         NaN      NaN           NaN      reseller   \n1         NaN      NaN           NaN      reseller   \n2         NaN      NaN           NaN      reseller   \n3         NaN      NaN           NaN      reseller   \n\n   declared_product_catalog_size  declared_monthly_revenue  \n0                            NaN                       0.0  \n1                            NaN                       0.0  \n2                            NaN                       0.0  \n3                            NaN                       0.0  ",
      "text/html": "<div>\n<style scoped>\n    .dataframe tbody tr th:only-of-type {\n        vertical-align: middle;\n    }\n\n    .dataframe tbody tr th {\n        vertical-align: top;\n    }\n\n    .dataframe thead th {\n        text-align: right;\n    }\n</style>\n<table border=\"1\" class=\"dataframe\">\n  <thead>\n    <tr style=\"text-align: right;\">\n      <th></th>\n      <th>mql_id</th>\n      <th>seller_id</th>\n      <th>sdr_id</th>\n      <th>sr_id</th>\n      <th>won_date</th>\n      <th>business_segment</th>\n      <th>lead_type</th>\n      <th>lead_behaviour_profile</th>\n      <th>has_company</th>\n      <th>has_gtin</th>\n      <th>average_stock</th>\n      <th>business_type</th>\n      <th>declared_product_catalog_size</th>\n      <th>declared_monthly_revenue</th>\n    </tr>\n  </thead>\n  <tbody>\n    <tr>\n      <th>0</th>\n      <td>5420aad7fec3549a85876ba1c529bd84</td>\n      <td>2c43fb513632d29b3b58df74816f1b06</td>\n      <td>a8387c01a09e99ce014107505b92388c</td>\n      <td>4ef15afb4b2723d8f3d81e51ec7afefe</td>\n      <td>2018-02-26 19:58:54</td>\n      <td>pet</td>\n      <td>online_medium</td>\n      <td>cat</td>\n      <td>NaN</td>\n      <td>NaN</td>\n      <td>NaN</td>\n      <td>reseller</td>\n      <td>NaN</td>\n      <td>0.0</td>\n    </tr>\n    <tr>\n      <th>1</th>\n      <td>a555fb36b9368110ede0f043dfc3b9a0</td>\n      <td>bbb7d7893a450660432ea6652310ebb7</td>\n      <td>09285259593c61296eef10c734121d5b</td>\n      <td>d3d1e91a157ea7f90548eef82f1955e3</td>\n      <td>2018-05-08 20:17:59</td>\n      <td>car_accessories</td>\n      <td>industry</td>\n      <td>eagle</td>\n      <td>NaN</td>\n      <td>NaN</td>\n      <td>NaN</td>\n      <td>reseller</td>\n      <td>NaN</td>\n      <td>0.0</td>\n    </tr>\n    <tr>\n      <th>2</th>\n      <td>327174d3648a2d047e8940d7d15204ca</td>\n      <td>612170e34b97004b3ba37eae81836b4c</td>\n      <td>b90f87164b5f8c2cfa5c8572834dbe3f</td>\n      <td>6565aa9ce3178a5caf6171827af3a9ba</td>\n      <td>2018-06-05 17:27:23</td>\n      <td>home_appliances</td>\n      <td>online_big</td>\n      <td>cat</td>\n      <td>NaN</td>\n      <td>NaN</td>\n      <td>NaN</td>\n      <td>reseller</td>\n      <td>NaN</td>\n      <td>0.0</td>\n    </tr>\n    <tr>\n      <th>3</th>\n      <td>f5fee8f7da74f4887f5bcae2bafb6dd6</td>\n      <td>21e1781e36faf92725dde4730a88ca0f</td>\n      <td>56bf83c4bb35763a51c2baab501b4c67</td>\n      <td>d3d1e91a157ea7f90548eef82f1955e3</td>\n      <td>2018-01-17 13:51:03</td>\n      <td>food_drink</td>\n      <td>online_small</td>\n      <td>NaN</td>\n      <td>NaN</td>\n      <td>NaN</td>\n      <td>NaN</td>\n      <td>reseller</td>\n      <td>NaN</td>\n      <td>0.0</td>\n    </tr>\n  </tbody>\n</table>\n</div>"
     },
     "execution_count": 91,
     "metadata": {},
     "output_type": "execute_result"
    }
   ],
   "source": [
    "projeto = '/olist_mkt_funnel'\n",
    "arquivo = 'olist_closed_deals_dataset.csv'\n",
    "df_vendas_convertidas = criar_dataframe(projeto , arquivo)\n",
    "df_vendas_convertidas.head(4)"
   ],
   "metadata": {
    "collapsed": false,
    "pycharm": {
     "name": "#%%\n"
    }
   }
  },
  {
   "cell_type": "code",
   "execution_count": 98,
   "outputs": [
    {
     "name": "stdout",
     "output_type": "stream",
     "text": [
      "<class 'pandas.core.frame.DataFrame'>\n",
      "RangeIndex: 842 entries, 0 to 841\n",
      "Data columns (total 14 columns):\n",
      " #   Column                         Non-Null Count  Dtype  \n",
      "---  ------                         --------------  -----  \n",
      " 0   mql_id                         842 non-null    object \n",
      " 1   seller_id                      842 non-null    object \n",
      " 2   sdr_id                         842 non-null    object \n",
      " 3   sr_id                          842 non-null    object \n",
      " 4   won_date                       842 non-null    object \n",
      " 5   business_segment               841 non-null    object \n",
      " 6   lead_type                      836 non-null    object \n",
      " 7   lead_behaviour_profile         665 non-null    object \n",
      " 8   has_company                    63 non-null     object \n",
      " 9   has_gtin                       64 non-null     object \n",
      " 10  average_stock                  66 non-null     object \n",
      " 11  business_type                  832 non-null    object \n",
      " 12  declared_product_catalog_size  69 non-null     float64\n",
      " 13  declared_monthly_revenue       842 non-null    float64\n",
      "dtypes: float64(2), object(12)\n",
      "memory usage: 92.2+ KB\n"
     ]
    },
    {
     "data": {
      "text/plain": "mql_id                           842\nseller_id                        842\nsdr_id                            32\nsr_id                             22\nwon_date                         824\nbusiness_segment                  33\nlead_type                          8\nlead_behaviour_profile             9\nhas_company                        2\nhas_gtin                           2\naverage_stock                      6\nbusiness_type                      3\ndeclared_product_catalog_size     33\ndeclared_monthly_revenue          27\ndtype: int64"
     },
     "execution_count": 98,
     "metadata": {},
     "output_type": "execute_result"
    }
   ],
   "source": [
    "info_vendas_convertidas = df_vendas_convertidas.info()\n",
    "list(df_vendas_convertidas)\n",
    "df_vendas_convertidas.nunique()"
   ],
   "metadata": {
    "collapsed": false,
    "pycharm": {
     "name": "#%%\n"
    }
   }
  },
  {
   "cell_type": "markdown",
   "source": [
    "<span style=\"color:blue;font-weight:300;font-size:20px\"><b>Importando as oportunidades de negócio.</span></b><br>"
   ],
   "metadata": {
    "collapsed": false,
    "pycharm": {
     "name": "#%% md\n"
    }
   }
  },
  {
   "cell_type": "code",
   "execution_count": 61,
   "outputs": [
    {
     "data": {
      "text/plain": "                             mql_id first_contact_date  \\\n0  dac32acd4db4c29c230538b72f8dd87d         2018-02-01   \n1  8c18d1de7f67e60dbd64e3c07d7e9d5d         2017-10-20   \n2  b4bc852d233dfefc5131f593b538befa         2018-03-22   \n3  6be030b81c75970747525b843c1ef4f8         2018-01-22   \n\n                    landing_page_id          origin  \n0  88740e65d5d6b056e0cda098e1ea6313          social  \n1  007f9098284a86ee80ddeb25d53e0af8     paid_search  \n2  a7982125ff7aa3b2054c6e44f9d28522  organic_search  \n3  d45d558f0daeecf3cccdffe3c59684aa           email  ",
      "text/html": "<div>\n<style scoped>\n    .dataframe tbody tr th:only-of-type {\n        vertical-align: middle;\n    }\n\n    .dataframe tbody tr th {\n        vertical-align: top;\n    }\n\n    .dataframe thead th {\n        text-align: right;\n    }\n</style>\n<table border=\"1\" class=\"dataframe\">\n  <thead>\n    <tr style=\"text-align: right;\">\n      <th></th>\n      <th>mql_id</th>\n      <th>first_contact_date</th>\n      <th>landing_page_id</th>\n      <th>origin</th>\n    </tr>\n  </thead>\n  <tbody>\n    <tr>\n      <th>0</th>\n      <td>dac32acd4db4c29c230538b72f8dd87d</td>\n      <td>2018-02-01</td>\n      <td>88740e65d5d6b056e0cda098e1ea6313</td>\n      <td>social</td>\n    </tr>\n    <tr>\n      <th>1</th>\n      <td>8c18d1de7f67e60dbd64e3c07d7e9d5d</td>\n      <td>2017-10-20</td>\n      <td>007f9098284a86ee80ddeb25d53e0af8</td>\n      <td>paid_search</td>\n    </tr>\n    <tr>\n      <th>2</th>\n      <td>b4bc852d233dfefc5131f593b538befa</td>\n      <td>2018-03-22</td>\n      <td>a7982125ff7aa3b2054c6e44f9d28522</td>\n      <td>organic_search</td>\n    </tr>\n    <tr>\n      <th>3</th>\n      <td>6be030b81c75970747525b843c1ef4f8</td>\n      <td>2018-01-22</td>\n      <td>d45d558f0daeecf3cccdffe3c59684aa</td>\n      <td>email</td>\n    </tr>\n  </tbody>\n</table>\n</div>"
     },
     "execution_count": 61,
     "metadata": {},
     "output_type": "execute_result"
    }
   ],
   "source": [
    "arquivo = 'olist_marketing_qualified_leads_dataset.csv'\n",
    "df_todas_propostas = criar_dataframe(projeto , arquivo)\n",
    "df_todas_propostas.head(4)"
   ],
   "metadata": {
    "collapsed": false,
    "pycharm": {
     "name": "#%%\n"
    }
   }
  },
  {
   "cell_type": "code",
   "execution_count": 100,
   "outputs": [
    {
     "name": "stdout",
     "output_type": "stream",
     "text": [
      "<class 'pandas.core.frame.DataFrame'>\n",
      "RangeIndex: 8000 entries, 0 to 7999\n",
      "Data columns (total 4 columns):\n",
      " #   Column              Non-Null Count  Dtype \n",
      "---  ------              --------------  ----- \n",
      " 0   mql_id              8000 non-null   object\n",
      " 1   first_contact_date  8000 non-null   object\n",
      " 2   landing_page_id     8000 non-null   object\n",
      " 3   origin              7940 non-null   object\n",
      "dtypes: object(4)\n",
      "memory usage: 250.1+ KB\n"
     ]
    },
    {
     "data": {
      "text/plain": "['mql_id', 'first_contact_date', 'landing_page_id', 'origin']"
     },
     "execution_count": 100,
     "metadata": {},
     "output_type": "execute_result"
    }
   ],
   "source": [
    "info_todas_propostas = df_todas_propostas.info()\n",
    "list(df_todas_propostas)\n"
   ],
   "metadata": {
    "collapsed": false,
    "pycharm": {
     "name": "#%%\n"
    }
   }
  },
  {
   "cell_type": "markdown",
   "source": [
    "<span style=\"color:blue;font-weight:300;font-size:20px\"><b>Criando uma base única</b></span>"
   ],
   "metadata": {
    "collapsed": false,
    "pycharm": {
     "name": "#%% md\n"
    }
   }
  },
  {
   "cell_type": "code",
   "execution_count": 109,
   "outputs": [
    {
     "name": "stdout",
     "output_type": "stream",
     "text": [
      "<class 'pandas.core.frame.DataFrame'>\n",
      "Int64Index: 8000 entries, 0 to 7999\n",
      "Data columns (total 17 columns):\n",
      " #   Column                         Non-Null Count  Dtype  \n",
      "---  ------                         --------------  -----  \n",
      " 0   mql_id                         8000 non-null   object \n",
      " 1   first_contact_date             8000 non-null   object \n",
      " 2   landing_page_id                8000 non-null   object \n",
      " 3   origin                         7940 non-null   object \n",
      " 4   seller_id                      842 non-null    object \n",
      " 5   sdr_id                         842 non-null    object \n",
      " 6   sr_id                          842 non-null    object \n",
      " 7   won_date                       842 non-null    object \n",
      " 8   business_segment               841 non-null    object \n",
      " 9   lead_type                      836 non-null    object \n",
      " 10  lead_behaviour_profile         665 non-null    object \n",
      " 11  has_company                    63 non-null     object \n",
      " 12  has_gtin                       64 non-null     object \n",
      " 13  average_stock                  66 non-null     object \n",
      " 14  business_type                  832 non-null    object \n",
      " 15  declared_product_catalog_size  69 non-null     float64\n",
      " 16  declared_monthly_revenue       842 non-null    float64\n",
      "dtypes: float64(2), object(15)\n",
      "memory usage: 1.1+ MB\n"
     ]
    }
   ],
   "source": [
    "df_base_completa = df_todas_propostas.merge(df_vendas_convertidas, on = ['mql_id'], how = 'left').copy()\n",
    "df_base_completa.info()"
   ],
   "metadata": {
    "collapsed": false,
    "pycharm": {
     "name": "#%%\n"
    }
   }
  },
  {
   "cell_type": "code",
   "execution_count": 113,
   "outputs": [
    {
     "data": {
      "text/plain": "0"
     },
     "execution_count": 113,
     "metadata": {},
     "output_type": "execute_result"
    }
   ],
   "source": [
    "# Vamos verificar se existem registros duplicados no dataframe completo.\n",
    "\n",
    "registros_duplicados = df_base_completa.duplicated()\n",
    "registros_duplicados.sum()"
   ],
   "metadata": {
    "collapsed": false,
    "pycharm": {
     "name": "#%%\n"
    }
   }
  },
  {
   "cell_type": "code",
   "execution_count": 115,
   "outputs": [
    {
     "data": {
      "text/plain": "                             mql_id first_contact_date  \\\n0  dac32acd4db4c29c230538b72f8dd87d         2018-02-01   \n1  8c18d1de7f67e60dbd64e3c07d7e9d5d         2017-10-20   \n2  b4bc852d233dfefc5131f593b538befa         2018-03-22   \n3  6be030b81c75970747525b843c1ef4f8         2018-01-22   \n4  5420aad7fec3549a85876ba1c529bd84         2018-02-21   \n\n                    landing_page_id          origin  \\\n0  88740e65d5d6b056e0cda098e1ea6313          social   \n1  007f9098284a86ee80ddeb25d53e0af8     paid_search   \n2  a7982125ff7aa3b2054c6e44f9d28522  organic_search   \n3  d45d558f0daeecf3cccdffe3c59684aa           email   \n4  b48ec5f3b04e9068441002a19df93c6c  organic_search   \n\n                          seller_id                            sdr_id  \\\n0                               NaN                               NaN   \n1                               NaN                               NaN   \n2                               NaN                               NaN   \n3                               NaN                               NaN   \n4  2c43fb513632d29b3b58df74816f1b06  a8387c01a09e99ce014107505b92388c   \n\n                              sr_id             won_date business_segment  \\\n0                               NaN                  NaN              NaN   \n1                               NaN                  NaN              NaN   \n2                               NaN                  NaN              NaN   \n3                               NaN                  NaN              NaN   \n4  4ef15afb4b2723d8f3d81e51ec7afefe  2018-02-26 19:58:54              pet   \n\n       lead_type lead_behaviour_profile has_company has_gtin average_stock  \\\n0            NaN                    NaN         NaN      NaN           NaN   \n1            NaN                    NaN         NaN      NaN           NaN   \n2            NaN                    NaN         NaN      NaN           NaN   \n3            NaN                    NaN         NaN      NaN           NaN   \n4  online_medium                    cat         NaN      NaN           NaN   \n\n  business_type  declared_product_catalog_size  declared_monthly_revenue  \\\n0           NaN                            NaN                       NaN   \n1           NaN                            NaN                       NaN   \n2           NaN                            NaN                       NaN   \n3           NaN                            NaN                       NaN   \n4      reseller                            NaN                       0.0   \n\n   closed_deal  \n0            0  \n1            0  \n2            0  \n3            0  \n4            1  ",
      "text/html": "<div>\n<style scoped>\n    .dataframe tbody tr th:only-of-type {\n        vertical-align: middle;\n    }\n\n    .dataframe tbody tr th {\n        vertical-align: top;\n    }\n\n    .dataframe thead th {\n        text-align: right;\n    }\n</style>\n<table border=\"1\" class=\"dataframe\">\n  <thead>\n    <tr style=\"text-align: right;\">\n      <th></th>\n      <th>mql_id</th>\n      <th>first_contact_date</th>\n      <th>landing_page_id</th>\n      <th>origin</th>\n      <th>seller_id</th>\n      <th>sdr_id</th>\n      <th>sr_id</th>\n      <th>won_date</th>\n      <th>business_segment</th>\n      <th>lead_type</th>\n      <th>lead_behaviour_profile</th>\n      <th>has_company</th>\n      <th>has_gtin</th>\n      <th>average_stock</th>\n      <th>business_type</th>\n      <th>declared_product_catalog_size</th>\n      <th>declared_monthly_revenue</th>\n      <th>closed_deal</th>\n    </tr>\n  </thead>\n  <tbody>\n    <tr>\n      <th>0</th>\n      <td>dac32acd4db4c29c230538b72f8dd87d</td>\n      <td>2018-02-01</td>\n      <td>88740e65d5d6b056e0cda098e1ea6313</td>\n      <td>social</td>\n      <td>NaN</td>\n      <td>NaN</td>\n      <td>NaN</td>\n      <td>NaN</td>\n      <td>NaN</td>\n      <td>NaN</td>\n      <td>NaN</td>\n      <td>NaN</td>\n      <td>NaN</td>\n      <td>NaN</td>\n      <td>NaN</td>\n      <td>NaN</td>\n      <td>NaN</td>\n      <td>0</td>\n    </tr>\n    <tr>\n      <th>1</th>\n      <td>8c18d1de7f67e60dbd64e3c07d7e9d5d</td>\n      <td>2017-10-20</td>\n      <td>007f9098284a86ee80ddeb25d53e0af8</td>\n      <td>paid_search</td>\n      <td>NaN</td>\n      <td>NaN</td>\n      <td>NaN</td>\n      <td>NaN</td>\n      <td>NaN</td>\n      <td>NaN</td>\n      <td>NaN</td>\n      <td>NaN</td>\n      <td>NaN</td>\n      <td>NaN</td>\n      <td>NaN</td>\n      <td>NaN</td>\n      <td>NaN</td>\n      <td>0</td>\n    </tr>\n    <tr>\n      <th>2</th>\n      <td>b4bc852d233dfefc5131f593b538befa</td>\n      <td>2018-03-22</td>\n      <td>a7982125ff7aa3b2054c6e44f9d28522</td>\n      <td>organic_search</td>\n      <td>NaN</td>\n      <td>NaN</td>\n      <td>NaN</td>\n      <td>NaN</td>\n      <td>NaN</td>\n      <td>NaN</td>\n      <td>NaN</td>\n      <td>NaN</td>\n      <td>NaN</td>\n      <td>NaN</td>\n      <td>NaN</td>\n      <td>NaN</td>\n      <td>NaN</td>\n      <td>0</td>\n    </tr>\n    <tr>\n      <th>3</th>\n      <td>6be030b81c75970747525b843c1ef4f8</td>\n      <td>2018-01-22</td>\n      <td>d45d558f0daeecf3cccdffe3c59684aa</td>\n      <td>email</td>\n      <td>NaN</td>\n      <td>NaN</td>\n      <td>NaN</td>\n      <td>NaN</td>\n      <td>NaN</td>\n      <td>NaN</td>\n      <td>NaN</td>\n      <td>NaN</td>\n      <td>NaN</td>\n      <td>NaN</td>\n      <td>NaN</td>\n      <td>NaN</td>\n      <td>NaN</td>\n      <td>0</td>\n    </tr>\n    <tr>\n      <th>4</th>\n      <td>5420aad7fec3549a85876ba1c529bd84</td>\n      <td>2018-02-21</td>\n      <td>b48ec5f3b04e9068441002a19df93c6c</td>\n      <td>organic_search</td>\n      <td>2c43fb513632d29b3b58df74816f1b06</td>\n      <td>a8387c01a09e99ce014107505b92388c</td>\n      <td>4ef15afb4b2723d8f3d81e51ec7afefe</td>\n      <td>2018-02-26 19:58:54</td>\n      <td>pet</td>\n      <td>online_medium</td>\n      <td>cat</td>\n      <td>NaN</td>\n      <td>NaN</td>\n      <td>NaN</td>\n      <td>reseller</td>\n      <td>NaN</td>\n      <td>0.0</td>\n      <td>1</td>\n    </tr>\n  </tbody>\n</table>\n</div>"
     },
     "execution_count": 115,
     "metadata": {},
     "output_type": "execute_result"
    }
   ],
   "source": [
    "# Criando uma coluna adicional para identificar as vendas fechadas.\n",
    "df_base_completa['closed_deal'] = np.where(df_base_completa['won_date'].isnull(), 0, 1)\n",
    "df_base_completa.head(5)"
   ],
   "metadata": {
    "collapsed": false,
    "pycharm": {
     "name": "#%%\n"
    }
   }
  },
  {
   "cell_type": "markdown",
   "source": [
    "<span style=\"color:blue;font-weight:300;font-size:20px\"><b>Taxa de conversão total</b></span>"
   ],
   "metadata": {
    "collapsed": false,
    "pycharm": {
     "name": "#%% md\n"
    }
   }
  },
  {
   "cell_type": "code",
   "execution_count": 125,
   "outputs": [
    {
     "name": "stdout",
     "output_type": "stream",
     "text": [
      "**** Taxa de conversão total= 10.53% ****\n"
     ]
    }
   ],
   "source": [
    "taxa_conversao_total = df_base_completa.closed_deal.sum()/df_base_completa.shape[0]*100\n",
    "print(f'**** Taxa de conversão total= {taxa_conversao_total:.2f}% ****')"
   ],
   "metadata": {
    "collapsed": false,
    "pycharm": {
     "name": "#%%\n"
    }
   }
  },
  {
   "cell_type": "markdown",
   "source": [
    "<span style=\"color:blue;font-weight:300;font-size:20px\"><b>Taxa de conversão por Origem</b></span>"
   ],
   "metadata": {
    "collapsed": false,
    "pycharm": {
     "name": "#%% md\n"
    }
   }
  },
  {
   "cell_type": "code",
   "execution_count": 136,
   "outputs": [
    {
     "data": {
      "text/plain": "origin\ndirect_traffic       11.22\ndisplay               5.08\nemail                 3.04\norganic_search       11.80\nother                 2.67\nother_publicities     4.62\npaid_search          12.30\nreferral              8.45\nsocial                5.56\nunknown              16.29\nName: closed_deal, dtype: float64"
     },
     "execution_count": 136,
     "metadata": {},
     "output_type": "execute_result"
    }
   ],
   "source": [
    "taxa_conversao_por_origem = np.round(df_base_completa.groupby(['origin'])['closed_deal'].sum()/df_base_completa.groupby(['origin'])['closed_deal'].count()*100, 2)\n",
    "taxa_conversao_por_origem"
   ],
   "metadata": {
    "collapsed": false,
    "pycharm": {
     "name": "#%%\n"
    }
   }
  },
  {
   "cell_type": "markdown",
   "source": [
    "<span style=\"color:blue;font-weight:300;font-size:20px\"><b>Taxa de conversão por Página Inicial</b></span>"
   ],
   "metadata": {
    "collapsed": false,
    "pycharm": {
     "name": "#%% md\n"
    }
   }
  },
  {
   "cell_type": "code",
   "execution_count": 137,
   "outputs": [
    {
     "data": {
      "text/plain": "landing_page_id\n007f9098284a86ee80ddeb25d53e0af8      6.06\n01850876d34b43494b5f9879c366877b      0.00\n0218f6be0b76aca72ab4d00ee9e8cf10     12.50\n03c7c0ace395d80182db07ae2c30f034      0.00\n04a75b75d5f4f3a16b0178fbe382da00    100.00\n                                     ...  \nfd7c4cdfbfb7964b441618d54f88c38b      0.00\nfd7d977e75d1ac5cfe6b93ffabb150b1      0.00\nfe82aeadeaea2186478fe6353d6d5301     25.00\nff3416719616ad4921acb8c74e21d6f0      0.00\nffc62d6945fd1423539ec6d96326c37c    100.00\nName: closed_deal, Length: 495, dtype: float64"
     },
     "execution_count": 137,
     "metadata": {},
     "output_type": "execute_result"
    }
   ],
   "source": [
    "taxa_conversao_por_pagina = np.round(df_base_completa.groupby(['landing_page_id'])['closed_deal'].sum()/df_base_completa.groupby(['landing_page_id'])['closed_deal'].count()*100, 2)\n",
    "taxa_conversao_por_pagina"
   ],
   "metadata": {
    "collapsed": false,
    "pycharm": {
     "name": "#%%\n"
    }
   }
  },
  {
   "cell_type": "markdown",
   "source": [
    "<span style=\"color:blue;font-weight:300;font-size:20px\"><b>Taxa de conversão por Página Inicial</b></span>"
   ],
   "metadata": {
    "collapsed": false,
    "pycharm": {
     "name": "#%% md\n"
    }
   }
  }
 ],
 "metadata": {
  "kernelspec": {
   "display_name": "Python 3",
   "language": "python",
   "name": "python3"
  },
  "language_info": {
   "codemirror_mode": {
    "name": "ipython",
    "version": 2
   },
   "file_extension": ".py",
   "mimetype": "text/x-python",
   "name": "python",
   "nbconvert_exporter": "python",
   "pygments_lexer": "ipython2",
   "version": "2.7.6"
  }
 },
 "nbformat": 4,
 "nbformat_minor": 0
}