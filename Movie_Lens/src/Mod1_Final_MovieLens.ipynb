{
 "cells": [
  {
   "cell_type": "markdown",
   "id": "b8e8a646",
   "metadata": {
    "pycharm": {
     "name": "#%% md\n"
    }
   },
   "source": [
    "### Segunda parte do Projeto final - mod1 - Dados sobre filmes_MovieLens\n",
    "##### Dupla: Mariana e Magno\n",
    "###### Maio22\n",
    "----------------\n"
   ]
  },
  {
   "cell_type": "code",
   "execution_count": 4,
   "id": "a1e42e10",
   "metadata": {
    "pycharm": {
     "name": "#%%\n"
    }
   },
   "outputs": [],
   "source": [
    "import pandas as pd\n",
    "import numpy as np\n",
    "import os\n",
    "from pathlib import Path"
   ]
  },
  {
   "cell_type": "code",
   "execution_count": 13,
   "outputs": [],
   "source": [
    "def caminho_dos_dados(projeto):\n",
    "    '''\n",
    "    Função que retorna o caminho dos dados atual acrescido do nome do projeto\n",
    "    '''\n",
    "    return str(Path(os.getcwd()).parent) + projeto"
   ],
   "metadata": {
    "collapsed": false,
    "pycharm": {
     "name": "#%%\n"
    }
   }
  },
  {
   "cell_type": "markdown",
   "source": [
    "/Users/magnovaldo/Documents/Training/lets_code/ds_boticario/lets_pipe/Movie_Lens/dados/movies.csv"
   ],
   "metadata": {
    "collapsed": false,
    "pycharm": {
     "name": "#%% md\n"
    }
   }
  },
  {
   "cell_type": "code",
   "execution_count": 12,
   "id": "ba404787",
   "metadata": {
    "pycharm": {
     "name": "#%%\n"
    }
   },
   "outputs": [
    {
     "data": {
      "text/plain": "    movieId                                              title  \\\n0         1                                   Toy Story (1995)   \n1         2                                     Jumanji (1995)   \n2         3                            Grumpier Old Men (1995)   \n3         4                           Waiting to Exhale (1995)   \n4         5                 Father of the Bride Part II (1995)   \n5         6                                        Heat (1995)   \n6         7                                     Sabrina (1995)   \n7         8                                Tom and Huck (1995)   \n8         9                                Sudden Death (1995)   \n9        10                                   GoldenEye (1995)   \n10       11                     American President, The (1995)   \n11       12                 Dracula: Dead and Loving It (1995)   \n12       13                                       Balto (1995)   \n13       14                                       Nixon (1995)   \n14       15                            Cutthroat Island (1995)   \n15       16                                      Casino (1995)   \n16       17                       Sense and Sensibility (1995)   \n17       18                                  Four Rooms (1995)   \n18       19              Ace Ventura: When Nature Calls (1995)   \n19       20                                 Money Train (1995)   \n20       21                                  Get Shorty (1995)   \n21       22                                     Copycat (1995)   \n22       23                                   Assassins (1995)   \n23       24                                      Powder (1995)   \n24       25                           Leaving Las Vegas (1995)   \n25       26                                     Othello (1995)   \n26       27                                Now and Then (1995)   \n27       28                                  Persuasion (1995)   \n28       29  City of Lost Children, The (Cité des enfants p...   \n29       30  Shanghai Triad (Yao a yao yao dao waipo qiao) ...   \n30       31                             Dangerous Minds (1995)   \n31       32          Twelve Monkeys (a.k.a. 12 Monkeys) (1995)   \n32       34                                        Babe (1995)   \n33       36                            Dead Man Walking (1995)   \n34       38                                It Takes Two (1995)   \n35       39                                    Clueless (1995)   \n36       40                    Cry, the Beloved Country (1995)   \n37       41                                 Richard III (1995)   \n38       42                             Dead Presidents (1995)   \n39       43                                 Restoration (1995)   \n40       44                               Mortal Kombat (1995)   \n41       45                                  To Die For (1995)   \n42       46               How to Make an American Quilt (1995)   \n43       47                        Seven (a.k.a. Se7en) (1995)   \n44       48                                  Pocahontas (1995)   \n45       49                       When Night Is Falling (1995)   \n46       50                         Usual Suspects, The (1995)   \n47       52                            Mighty Aphrodite (1995)   \n48       53                                    Lamerica (1994)   \n49       54                              Big Green, The (1995)   \n\n                                         genres  \n0   Adventure|Animation|Children|Comedy|Fantasy  \n1                    Adventure|Children|Fantasy  \n2                                Comedy|Romance  \n3                          Comedy|Drama|Romance  \n4                                        Comedy  \n5                         Action|Crime|Thriller  \n6                                Comedy|Romance  \n7                            Adventure|Children  \n8                                        Action  \n9                     Action|Adventure|Thriller  \n10                         Comedy|Drama|Romance  \n11                                Comedy|Horror  \n12                 Adventure|Animation|Children  \n13                                        Drama  \n14                     Action|Adventure|Romance  \n15                                  Crime|Drama  \n16                                Drama|Romance  \n17                                       Comedy  \n18                                       Comedy  \n19           Action|Comedy|Crime|Drama|Thriller  \n20                        Comedy|Crime|Thriller  \n21          Crime|Drama|Horror|Mystery|Thriller  \n22                        Action|Crime|Thriller  \n23                                 Drama|Sci-Fi  \n24                                Drama|Romance  \n25                                        Drama  \n26                               Children|Drama  \n27                                Drama|Romance  \n28       Adventure|Drama|Fantasy|Mystery|Sci-Fi  \n29                                  Crime|Drama  \n30                                        Drama  \n31                      Mystery|Sci-Fi|Thriller  \n32                               Children|Drama  \n33                                  Crime|Drama  \n34                              Children|Comedy  \n35                               Comedy|Romance  \n36                                        Drama  \n37                                    Drama|War  \n38                           Action|Crime|Drama  \n39                                        Drama  \n40                     Action|Adventure|Fantasy  \n41                        Comedy|Drama|Thriller  \n42                                Drama|Romance  \n43                             Mystery|Thriller  \n44     Animation|Children|Drama|Musical|Romance  \n45                                Drama|Romance  \n46                       Crime|Mystery|Thriller  \n47                         Comedy|Drama|Romance  \n48                              Adventure|Drama  \n49                              Children|Comedy  ",
      "text/html": "<div>\n<style scoped>\n    .dataframe tbody tr th:only-of-type {\n        vertical-align: middle;\n    }\n\n    .dataframe tbody tr th {\n        vertical-align: top;\n    }\n\n    .dataframe thead th {\n        text-align: right;\n    }\n</style>\n<table border=\"1\" class=\"dataframe\">\n  <thead>\n    <tr style=\"text-align: right;\">\n      <th></th>\n      <th>movieId</th>\n      <th>title</th>\n      <th>genres</th>\n    </tr>\n  </thead>\n  <tbody>\n    <tr>\n      <th>0</th>\n      <td>1</td>\n      <td>Toy Story (1995)</td>\n      <td>Adventure|Animation|Children|Comedy|Fantasy</td>\n    </tr>\n    <tr>\n      <th>1</th>\n      <td>2</td>\n      <td>Jumanji (1995)</td>\n      <td>Adventure|Children|Fantasy</td>\n    </tr>\n    <tr>\n      <th>2</th>\n      <td>3</td>\n      <td>Grumpier Old Men (1995)</td>\n      <td>Comedy|Romance</td>\n    </tr>\n    <tr>\n      <th>3</th>\n      <td>4</td>\n      <td>Waiting to Exhale (1995)</td>\n      <td>Comedy|Drama|Romance</td>\n    </tr>\n    <tr>\n      <th>4</th>\n      <td>5</td>\n      <td>Father of the Bride Part II (1995)</td>\n      <td>Comedy</td>\n    </tr>\n    <tr>\n      <th>5</th>\n      <td>6</td>\n      <td>Heat (1995)</td>\n      <td>Action|Crime|Thriller</td>\n    </tr>\n    <tr>\n      <th>6</th>\n      <td>7</td>\n      <td>Sabrina (1995)</td>\n      <td>Comedy|Romance</td>\n    </tr>\n    <tr>\n      <th>7</th>\n      <td>8</td>\n      <td>Tom and Huck (1995)</td>\n      <td>Adventure|Children</td>\n    </tr>\n    <tr>\n      <th>8</th>\n      <td>9</td>\n      <td>Sudden Death (1995)</td>\n      <td>Action</td>\n    </tr>\n    <tr>\n      <th>9</th>\n      <td>10</td>\n      <td>GoldenEye (1995)</td>\n      <td>Action|Adventure|Thriller</td>\n    </tr>\n    <tr>\n      <th>10</th>\n      <td>11</td>\n      <td>American President, The (1995)</td>\n      <td>Comedy|Drama|Romance</td>\n    </tr>\n    <tr>\n      <th>11</th>\n      <td>12</td>\n      <td>Dracula: Dead and Loving It (1995)</td>\n      <td>Comedy|Horror</td>\n    </tr>\n    <tr>\n      <th>12</th>\n      <td>13</td>\n      <td>Balto (1995)</td>\n      <td>Adventure|Animation|Children</td>\n    </tr>\n    <tr>\n      <th>13</th>\n      <td>14</td>\n      <td>Nixon (1995)</td>\n      <td>Drama</td>\n    </tr>\n    <tr>\n      <th>14</th>\n      <td>15</td>\n      <td>Cutthroat Island (1995)</td>\n      <td>Action|Adventure|Romance</td>\n    </tr>\n    <tr>\n      <th>15</th>\n      <td>16</td>\n      <td>Casino (1995)</td>\n      <td>Crime|Drama</td>\n    </tr>\n    <tr>\n      <th>16</th>\n      <td>17</td>\n      <td>Sense and Sensibility (1995)</td>\n      <td>Drama|Romance</td>\n    </tr>\n    <tr>\n      <th>17</th>\n      <td>18</td>\n      <td>Four Rooms (1995)</td>\n      <td>Comedy</td>\n    </tr>\n    <tr>\n      <th>18</th>\n      <td>19</td>\n      <td>Ace Ventura: When Nature Calls (1995)</td>\n      <td>Comedy</td>\n    </tr>\n    <tr>\n      <th>19</th>\n      <td>20</td>\n      <td>Money Train (1995)</td>\n      <td>Action|Comedy|Crime|Drama|Thriller</td>\n    </tr>\n    <tr>\n      <th>20</th>\n      <td>21</td>\n      <td>Get Shorty (1995)</td>\n      <td>Comedy|Crime|Thriller</td>\n    </tr>\n    <tr>\n      <th>21</th>\n      <td>22</td>\n      <td>Copycat (1995)</td>\n      <td>Crime|Drama|Horror|Mystery|Thriller</td>\n    </tr>\n    <tr>\n      <th>22</th>\n      <td>23</td>\n      <td>Assassins (1995)</td>\n      <td>Action|Crime|Thriller</td>\n    </tr>\n    <tr>\n      <th>23</th>\n      <td>24</td>\n      <td>Powder (1995)</td>\n      <td>Drama|Sci-Fi</td>\n    </tr>\n    <tr>\n      <th>24</th>\n      <td>25</td>\n      <td>Leaving Las Vegas (1995)</td>\n      <td>Drama|Romance</td>\n    </tr>\n    <tr>\n      <th>25</th>\n      <td>26</td>\n      <td>Othello (1995)</td>\n      <td>Drama</td>\n    </tr>\n    <tr>\n      <th>26</th>\n      <td>27</td>\n      <td>Now and Then (1995)</td>\n      <td>Children|Drama</td>\n    </tr>\n    <tr>\n      <th>27</th>\n      <td>28</td>\n      <td>Persuasion (1995)</td>\n      <td>Drama|Romance</td>\n    </tr>\n    <tr>\n      <th>28</th>\n      <td>29</td>\n      <td>City of Lost Children, The (Cité des enfants p...</td>\n      <td>Adventure|Drama|Fantasy|Mystery|Sci-Fi</td>\n    </tr>\n    <tr>\n      <th>29</th>\n      <td>30</td>\n      <td>Shanghai Triad (Yao a yao yao dao waipo qiao) ...</td>\n      <td>Crime|Drama</td>\n    </tr>\n    <tr>\n      <th>30</th>\n      <td>31</td>\n      <td>Dangerous Minds (1995)</td>\n      <td>Drama</td>\n    </tr>\n    <tr>\n      <th>31</th>\n      <td>32</td>\n      <td>Twelve Monkeys (a.k.a. 12 Monkeys) (1995)</td>\n      <td>Mystery|Sci-Fi|Thriller</td>\n    </tr>\n    <tr>\n      <th>32</th>\n      <td>34</td>\n      <td>Babe (1995)</td>\n      <td>Children|Drama</td>\n    </tr>\n    <tr>\n      <th>33</th>\n      <td>36</td>\n      <td>Dead Man Walking (1995)</td>\n      <td>Crime|Drama</td>\n    </tr>\n    <tr>\n      <th>34</th>\n      <td>38</td>\n      <td>It Takes Two (1995)</td>\n      <td>Children|Comedy</td>\n    </tr>\n    <tr>\n      <th>35</th>\n      <td>39</td>\n      <td>Clueless (1995)</td>\n      <td>Comedy|Romance</td>\n    </tr>\n    <tr>\n      <th>36</th>\n      <td>40</td>\n      <td>Cry, the Beloved Country (1995)</td>\n      <td>Drama</td>\n    </tr>\n    <tr>\n      <th>37</th>\n      <td>41</td>\n      <td>Richard III (1995)</td>\n      <td>Drama|War</td>\n    </tr>\n    <tr>\n      <th>38</th>\n      <td>42</td>\n      <td>Dead Presidents (1995)</td>\n      <td>Action|Crime|Drama</td>\n    </tr>\n    <tr>\n      <th>39</th>\n      <td>43</td>\n      <td>Restoration (1995)</td>\n      <td>Drama</td>\n    </tr>\n    <tr>\n      <th>40</th>\n      <td>44</td>\n      <td>Mortal Kombat (1995)</td>\n      <td>Action|Adventure|Fantasy</td>\n    </tr>\n    <tr>\n      <th>41</th>\n      <td>45</td>\n      <td>To Die For (1995)</td>\n      <td>Comedy|Drama|Thriller</td>\n    </tr>\n    <tr>\n      <th>42</th>\n      <td>46</td>\n      <td>How to Make an American Quilt (1995)</td>\n      <td>Drama|Romance</td>\n    </tr>\n    <tr>\n      <th>43</th>\n      <td>47</td>\n      <td>Seven (a.k.a. Se7en) (1995)</td>\n      <td>Mystery|Thriller</td>\n    </tr>\n    <tr>\n      <th>44</th>\n      <td>48</td>\n      <td>Pocahontas (1995)</td>\n      <td>Animation|Children|Drama|Musical|Romance</td>\n    </tr>\n    <tr>\n      <th>45</th>\n      <td>49</td>\n      <td>When Night Is Falling (1995)</td>\n      <td>Drama|Romance</td>\n    </tr>\n    <tr>\n      <th>46</th>\n      <td>50</td>\n      <td>Usual Suspects, The (1995)</td>\n      <td>Crime|Mystery|Thriller</td>\n    </tr>\n    <tr>\n      <th>47</th>\n      <td>52</td>\n      <td>Mighty Aphrodite (1995)</td>\n      <td>Comedy|Drama|Romance</td>\n    </tr>\n    <tr>\n      <th>48</th>\n      <td>53</td>\n      <td>Lamerica (1994)</td>\n      <td>Adventure|Drama</td>\n    </tr>\n    <tr>\n      <th>49</th>\n      <td>54</td>\n      <td>Big Green, The (1995)</td>\n      <td>Children|Comedy</td>\n    </tr>\n  </tbody>\n</table>\n</div>"
     },
     "execution_count": 12,
     "metadata": {},
     "output_type": "execute_result"
    }
   ],
   "source": [
    "#Importando a base MOVIES e dando uma olhada no formato dos dados\n",
    "projeto = '/dados'\n",
    "arquivo = '/movies.csv'\n",
    "path = caminho_dos_dados(projeto)\n",
    "movies = pd.read_csv(path + arquivo)\n",
    "movies.head(50)"
   ]
  },
  {
   "cell_type": "code",
   "execution_count": 14,
   "id": "1bb08c79",
   "metadata": {
    "pycharm": {
     "name": "#%%\n"
    }
   },
   "outputs": [
    {
     "data": {
      "text/plain": "   userId  movieId  rating  timestamp\n0       1        1     4.0  964982703\n1       1        3     4.0  964981247\n2       1        6     4.0  964982224\n3       1       47     5.0  964983815\n4       1       50     5.0  964982931",
      "text/html": "<div>\n<style scoped>\n    .dataframe tbody tr th:only-of-type {\n        vertical-align: middle;\n    }\n\n    .dataframe tbody tr th {\n        vertical-align: top;\n    }\n\n    .dataframe thead th {\n        text-align: right;\n    }\n</style>\n<table border=\"1\" class=\"dataframe\">\n  <thead>\n    <tr style=\"text-align: right;\">\n      <th></th>\n      <th>userId</th>\n      <th>movieId</th>\n      <th>rating</th>\n      <th>timestamp</th>\n    </tr>\n  </thead>\n  <tbody>\n    <tr>\n      <th>0</th>\n      <td>1</td>\n      <td>1</td>\n      <td>4.0</td>\n      <td>964982703</td>\n    </tr>\n    <tr>\n      <th>1</th>\n      <td>1</td>\n      <td>3</td>\n      <td>4.0</td>\n      <td>964981247</td>\n    </tr>\n    <tr>\n      <th>2</th>\n      <td>1</td>\n      <td>6</td>\n      <td>4.0</td>\n      <td>964982224</td>\n    </tr>\n    <tr>\n      <th>3</th>\n      <td>1</td>\n      <td>47</td>\n      <td>5.0</td>\n      <td>964983815</td>\n    </tr>\n    <tr>\n      <th>4</th>\n      <td>1</td>\n      <td>50</td>\n      <td>5.0</td>\n      <td>964982931</td>\n    </tr>\n  </tbody>\n</table>\n</div>"
     },
     "execution_count": 14,
     "metadata": {},
     "output_type": "execute_result"
    }
   ],
   "source": [
    "#Importando a base RATING e dando uma olhada nos dados\n",
    "arquivo = '/ratings.csv'\n",
    "path = caminho_dos_dados(projeto)\n",
    "rating =  pd.read_csv(path + arquivo)\n",
    "rating.head()"
   ]
  },
  {
   "cell_type": "code",
   "execution_count": 16,
   "id": "497413e8",
   "metadata": {
    "pycharm": {
     "name": "#%%\n"
    }
   },
   "outputs": [
    {
     "name": "stdout",
     "output_type": "stream",
     "text": [
      "<class 'pandas.core.frame.DataFrame'>\n",
      "RangeIndex: 9742 entries, 0 to 9741\n",
      "Data columns (total 3 columns):\n",
      " #   Column   Non-Null Count  Dtype \n",
      "---  ------   --------------  ----- \n",
      " 0   movieId  9742 non-null   int64 \n",
      " 1   title    9742 non-null   object\n",
      " 2   genres   9742 non-null   object\n",
      "dtypes: int64(1), object(2)\n",
      "memory usage: 228.5+ KB\n"
     ]
    }
   ],
   "source": [
    "#Analisando os tipos de info em cada coluna\n",
    "movies.info()"
   ]
  },
  {
   "cell_type": "code",
   "execution_count": 17,
   "outputs": [
    {
     "name": "stdout",
     "output_type": "stream",
     "text": [
      "<class 'pandas.core.frame.DataFrame'>\n",
      "RangeIndex: 100836 entries, 0 to 100835\n",
      "Data columns (total 4 columns):\n",
      " #   Column     Non-Null Count   Dtype  \n",
      "---  ------     --------------   -----  \n",
      " 0   userId     100836 non-null  int64  \n",
      " 1   movieId    100836 non-null  int64  \n",
      " 2   rating     100836 non-null  float64\n",
      " 3   timestamp  100836 non-null  int64  \n",
      "dtypes: float64(1), int64(3)\n",
      "memory usage: 3.1 MB\n"
     ]
    }
   ],
   "source": [
    "rating.info()"
   ],
   "metadata": {
    "collapsed": false,
    "pycharm": {
     "name": "#%%\n"
    }
   }
  },
  {
   "cell_type": "code",
   "execution_count": 18,
   "id": "a15c1a6a",
   "metadata": {
    "pycharm": {
     "name": "#%%\n"
    }
   },
   "outputs": [
    {
     "data": {
      "text/plain": "0"
     },
     "execution_count": 18,
     "metadata": {},
     "output_type": "execute_result"
    }
   ],
   "source": [
    "###Chave para cruzamento das tabelas é movieId\n",
    "#Verifica se há duplicidade aqui no nome dos filmes\n",
    "duplic = movies.movieId.duplicated()\n",
    "duplic.sum()"
   ]
  },
  {
   "cell_type": "code",
   "execution_count": 19,
   "id": "1a02961c",
   "metadata": {
    "pycharm": {
     "name": "#%%\n"
    }
   },
   "outputs": [
    {
     "data": {
      "text/plain": "   movieId                               title  \\\n0        1                    Toy Story (1995)   \n1        2                      Jumanji (1995)   \n2        3             Grumpier Old Men (1995)   \n3        4            Waiting to Exhale (1995)   \n4        5  Father of the Bride Part II (1995)   \n\n                                        genres  \\\n0  Adventure|Animation|Children|Comedy|Fantasy   \n1                   Adventure|Children|Fantasy   \n2                               Comedy|Romance   \n3                         Comedy|Drama|Romance   \n4                                       Comedy   \n\n                                         genres_list  \n0  [Adventure, Animation, Children, Comedy, Fantasy]  \n1                     [Adventure, Children, Fantasy]  \n2                                  [Comedy, Romance]  \n3                           [Comedy, Drama, Romance]  \n4                                           [Comedy]  ",
      "text/html": "<div>\n<style scoped>\n    .dataframe tbody tr th:only-of-type {\n        vertical-align: middle;\n    }\n\n    .dataframe tbody tr th {\n        vertical-align: top;\n    }\n\n    .dataframe thead th {\n        text-align: right;\n    }\n</style>\n<table border=\"1\" class=\"dataframe\">\n  <thead>\n    <tr style=\"text-align: right;\">\n      <th></th>\n      <th>movieId</th>\n      <th>title</th>\n      <th>genres</th>\n      <th>genres_list</th>\n    </tr>\n  </thead>\n  <tbody>\n    <tr>\n      <th>0</th>\n      <td>1</td>\n      <td>Toy Story (1995)</td>\n      <td>Adventure|Animation|Children|Comedy|Fantasy</td>\n      <td>[Adventure, Animation, Children, Comedy, Fantasy]</td>\n    </tr>\n    <tr>\n      <th>1</th>\n      <td>2</td>\n      <td>Jumanji (1995)</td>\n      <td>Adventure|Children|Fantasy</td>\n      <td>[Adventure, Children, Fantasy]</td>\n    </tr>\n    <tr>\n      <th>2</th>\n      <td>3</td>\n      <td>Grumpier Old Men (1995)</td>\n      <td>Comedy|Romance</td>\n      <td>[Comedy, Romance]</td>\n    </tr>\n    <tr>\n      <th>3</th>\n      <td>4</td>\n      <td>Waiting to Exhale (1995)</td>\n      <td>Comedy|Drama|Romance</td>\n      <td>[Comedy, Drama, Romance]</td>\n    </tr>\n    <tr>\n      <th>4</th>\n      <td>5</td>\n      <td>Father of the Bride Part II (1995)</td>\n      <td>Comedy</td>\n      <td>[Comedy]</td>\n    </tr>\n  </tbody>\n</table>\n</div>"
     },
     "execution_count": 19,
     "metadata": {},
     "output_type": "execute_result"
    }
   ],
   "source": [
    "##Trabalhando os dados\n",
    "#Primeiro separar os gêneros dos filmes\n",
    "movies['genres_list'] = movies['genres'].str.split('|')\n",
    "movies.head(5)"
   ]
  },
  {
   "cell_type": "code",
   "execution_count": 20,
   "id": "cda4d71f",
   "metadata": {
    "pycharm": {
     "name": "#%%\n"
    }
   },
   "outputs": [],
   "source": [
    "#drop na coluna antiga\n",
    "movies.drop(columns=['genres'], inplace=True)"
   ]
  },
  {
   "cell_type": "code",
   "execution_count": 21,
   "id": "4419d4c7",
   "metadata": {
    "pycharm": {
     "name": "#%%\n"
    }
   },
   "outputs": [
    {
     "data": {
      "text/plain": "   movieId                               title  \\\n0        1                    Toy Story (1995)   \n1        2                      Jumanji (1995)   \n2        3             Grumpier Old Men (1995)   \n3        4            Waiting to Exhale (1995)   \n4        5  Father of the Bride Part II (1995)   \n\n                                         genres_list  \n0  [Adventure, Animation, Children, Comedy, Fantasy]  \n1                     [Adventure, Children, Fantasy]  \n2                                  [Comedy, Romance]  \n3                           [Comedy, Drama, Romance]  \n4                                           [Comedy]  ",
      "text/html": "<div>\n<style scoped>\n    .dataframe tbody tr th:only-of-type {\n        vertical-align: middle;\n    }\n\n    .dataframe tbody tr th {\n        vertical-align: top;\n    }\n\n    .dataframe thead th {\n        text-align: right;\n    }\n</style>\n<table border=\"1\" class=\"dataframe\">\n  <thead>\n    <tr style=\"text-align: right;\">\n      <th></th>\n      <th>movieId</th>\n      <th>title</th>\n      <th>genres_list</th>\n    </tr>\n  </thead>\n  <tbody>\n    <tr>\n      <th>0</th>\n      <td>1</td>\n      <td>Toy Story (1995)</td>\n      <td>[Adventure, Animation, Children, Comedy, Fantasy]</td>\n    </tr>\n    <tr>\n      <th>1</th>\n      <td>2</td>\n      <td>Jumanji (1995)</td>\n      <td>[Adventure, Children, Fantasy]</td>\n    </tr>\n    <tr>\n      <th>2</th>\n      <td>3</td>\n      <td>Grumpier Old Men (1995)</td>\n      <td>[Comedy, Romance]</td>\n    </tr>\n    <tr>\n      <th>3</th>\n      <td>4</td>\n      <td>Waiting to Exhale (1995)</td>\n      <td>[Comedy, Drama, Romance]</td>\n    </tr>\n    <tr>\n      <th>4</th>\n      <td>5</td>\n      <td>Father of the Bride Part II (1995)</td>\n      <td>[Comedy]</td>\n    </tr>\n  </tbody>\n</table>\n</div>"
     },
     "execution_count": 21,
     "metadata": {},
     "output_type": "execute_result"
    }
   ],
   "source": [
    "#Verifica se deu certo\n",
    "movies.head()"
   ]
  },
  {
   "cell_type": "code",
   "execution_count": 22,
   "id": "ce695676",
   "metadata": {
    "pycharm": {
     "name": "#%%\n"
    }
   },
   "outputs": [
    {
     "data": {
      "text/plain": "   movieId                    title genres_list\n0        1         Toy Story (1995)   Adventure\n0        1         Toy Story (1995)   Animation\n0        1         Toy Story (1995)    Children\n0        1         Toy Story (1995)      Comedy\n0        1         Toy Story (1995)     Fantasy\n1        2           Jumanji (1995)   Adventure\n1        2           Jumanji (1995)    Children\n1        2           Jumanji (1995)     Fantasy\n2        3  Grumpier Old Men (1995)      Comedy\n2        3  Grumpier Old Men (1995)     Romance",
      "text/html": "<div>\n<style scoped>\n    .dataframe tbody tr th:only-of-type {\n        vertical-align: middle;\n    }\n\n    .dataframe tbody tr th {\n        vertical-align: top;\n    }\n\n    .dataframe thead th {\n        text-align: right;\n    }\n</style>\n<table border=\"1\" class=\"dataframe\">\n  <thead>\n    <tr style=\"text-align: right;\">\n      <th></th>\n      <th>movieId</th>\n      <th>title</th>\n      <th>genres_list</th>\n    </tr>\n  </thead>\n  <tbody>\n    <tr>\n      <th>0</th>\n      <td>1</td>\n      <td>Toy Story (1995)</td>\n      <td>Adventure</td>\n    </tr>\n    <tr>\n      <th>0</th>\n      <td>1</td>\n      <td>Toy Story (1995)</td>\n      <td>Animation</td>\n    </tr>\n    <tr>\n      <th>0</th>\n      <td>1</td>\n      <td>Toy Story (1995)</td>\n      <td>Children</td>\n    </tr>\n    <tr>\n      <th>0</th>\n      <td>1</td>\n      <td>Toy Story (1995)</td>\n      <td>Comedy</td>\n    </tr>\n    <tr>\n      <th>0</th>\n      <td>1</td>\n      <td>Toy Story (1995)</td>\n      <td>Fantasy</td>\n    </tr>\n    <tr>\n      <th>1</th>\n      <td>2</td>\n      <td>Jumanji (1995)</td>\n      <td>Adventure</td>\n    </tr>\n    <tr>\n      <th>1</th>\n      <td>2</td>\n      <td>Jumanji (1995)</td>\n      <td>Children</td>\n    </tr>\n    <tr>\n      <th>1</th>\n      <td>2</td>\n      <td>Jumanji (1995)</td>\n      <td>Fantasy</td>\n    </tr>\n    <tr>\n      <th>2</th>\n      <td>3</td>\n      <td>Grumpier Old Men (1995)</td>\n      <td>Comedy</td>\n    </tr>\n    <tr>\n      <th>2</th>\n      <td>3</td>\n      <td>Grumpier Old Men (1995)</td>\n      <td>Romance</td>\n    </tr>\n  </tbody>\n</table>\n</div>"
     },
     "execution_count": 22,
     "metadata": {},
     "output_type": "execute_result"
    }
   ],
   "source": [
    "#Transforma a informação da coluna GENRES_LIST em linhas\n",
    "movies2=movies.explode('genres_list')\n",
    "movies2.head(10)"
   ]
  },
  {
   "cell_type": "code",
   "execution_count": 24,
   "id": "520d183b",
   "metadata": {
    "pycharm": {
     "name": "#%%\n"
    }
   },
   "outputs": [
    {
     "name": "stdout",
     "output_type": "stream",
     "text": [
      "movieId  title               genres_list\n",
      "2571     Matrix, The (1999)  Action         1\n",
      "                             Sci-Fi         1\n",
      "                             Thriller       1\n",
      "dtype: int64\n"
     ]
    }
   ],
   "source": [
    "#Quantos gêneros o filme \"The Matrix\" tem? Quais são os gêneros?\n",
    "thematrix=movies2[(movies2['movieId']==2571)].value_counts()\n",
    "print(thematrix)\n"
   ]
  },
  {
   "cell_type": "code",
   "execution_count": 25,
   "id": "79586a9f",
   "metadata": {
    "pycharm": {
     "name": "#%%\n"
    }
   },
   "outputs": [
    {
     "data": {
      "text/plain": "   movieId             title genres_list  linha_aux\n0        1  Toy Story (1995)   Adventure        1.0\n0        1  Toy Story (1995)   Animation        1.0\n0        1  Toy Story (1995)    Children        1.0\n0        1  Toy Story (1995)      Comedy        1.0\n0        1  Toy Story (1995)     Fantasy        1.0",
      "text/html": "<div>\n<style scoped>\n    .dataframe tbody tr th:only-of-type {\n        vertical-align: middle;\n    }\n\n    .dataframe tbody tr th {\n        vertical-align: top;\n    }\n\n    .dataframe thead th {\n        text-align: right;\n    }\n</style>\n<table border=\"1\" class=\"dataframe\">\n  <thead>\n    <tr style=\"text-align: right;\">\n      <th></th>\n      <th>movieId</th>\n      <th>title</th>\n      <th>genres_list</th>\n      <th>linha_aux</th>\n    </tr>\n  </thead>\n  <tbody>\n    <tr>\n      <th>0</th>\n      <td>1</td>\n      <td>Toy Story (1995)</td>\n      <td>Adventure</td>\n      <td>1.0</td>\n    </tr>\n    <tr>\n      <th>0</th>\n      <td>1</td>\n      <td>Toy Story (1995)</td>\n      <td>Animation</td>\n      <td>1.0</td>\n    </tr>\n    <tr>\n      <th>0</th>\n      <td>1</td>\n      <td>Toy Story (1995)</td>\n      <td>Children</td>\n      <td>1.0</td>\n    </tr>\n    <tr>\n      <th>0</th>\n      <td>1</td>\n      <td>Toy Story (1995)</td>\n      <td>Comedy</td>\n      <td>1.0</td>\n    </tr>\n    <tr>\n      <th>0</th>\n      <td>1</td>\n      <td>Toy Story (1995)</td>\n      <td>Fantasy</td>\n      <td>1.0</td>\n    </tr>\n  </tbody>\n</table>\n</div>"
     },
     "execution_count": 25,
     "metadata": {},
     "output_type": "execute_result"
    }
   ],
   "source": [
    "#PERGUNTA: Quantos gêneros cada filme tem, em média?\n",
    "\n",
    "#Criando uma coluna cheia de 1 pra facilitar a contagem depois\n",
    "movies2.loc[:,'linha_aux'] = np.ones(movies2.shape[0])\n",
    "movies2.head()"
   ]
  },
  {
   "cell_type": "code",
   "execution_count": 26,
   "id": "04805354",
   "metadata": {
    "pycharm": {
     "name": "#%%\n"
    }
   },
   "outputs": [
    {
     "name": "stdout",
     "output_type": "stream",
     "text": [
      "2.2680497073020436\n"
     ]
    }
   ],
   "source": [
    "total_genres_per_movie = (movies2.groupby('title')['linha_aux'].sum())\n",
    "media_geral = total_genres_per_movie.sum()/len(total_genres_per_movie)\n",
    "\n",
    "print(media_geral)"
   ]
  },
  {
   "cell_type": "code",
   "execution_count": 27,
   "id": "e601a80a",
   "metadata": {
    "pycharm": {
     "name": "#%%\n"
    }
   },
   "outputs": [
    {
     "data": {
      "text/plain": "title\nRubber (2010)                                                     10.0\nConfessions of a Dangerous Mind (2002)                             9.0\nPatlabor: The Movie (Kidô keisatsu patorebâ: The Movie) (1989)     8.0\nMulan (1998)                                                       7.0\nRobots (2005)                                                      7.0\nName: linha_aux, dtype: float64"
     },
     "execution_count": 27,
     "metadata": {},
     "output_type": "execute_result"
    }
   ],
   "source": [
    "#PERGUNTA: Quais são os cinco filmes com maior número de gêneros?\n",
    "ordenados = total_genres_per_movie.sort_values(ascending=False)\n",
    "ordenados.head(5)"
   ]
  },
  {
   "cell_type": "code",
   "execution_count": 28,
   "id": "39e42043",
   "metadata": {
    "pycharm": {
     "name": "#%%\n"
    }
   },
   "outputs": [
    {
     "data": {
      "text/plain": "   movieId             title genres_list  linha_aux  userId  rating  \\\n0        1  Toy Story (1995)   Adventure        1.0     1.0     4.0   \n1        1  Toy Story (1995)   Adventure        1.0     5.0     4.0   \n2        1  Toy Story (1995)   Adventure        1.0     7.0     4.5   \n3        1  Toy Story (1995)   Adventure        1.0    15.0     2.5   \n4        1  Toy Story (1995)   Adventure        1.0    17.0     4.5   \n\n      timestamp  \n0  9.649827e+08  \n1  8.474350e+08  \n2  1.106636e+09  \n3  1.510578e+09  \n4  1.305696e+09  ",
      "text/html": "<div>\n<style scoped>\n    .dataframe tbody tr th:only-of-type {\n        vertical-align: middle;\n    }\n\n    .dataframe tbody tr th {\n        vertical-align: top;\n    }\n\n    .dataframe thead th {\n        text-align: right;\n    }\n</style>\n<table border=\"1\" class=\"dataframe\">\n  <thead>\n    <tr style=\"text-align: right;\">\n      <th></th>\n      <th>movieId</th>\n      <th>title</th>\n      <th>genres_list</th>\n      <th>linha_aux</th>\n      <th>userId</th>\n      <th>rating</th>\n      <th>timestamp</th>\n    </tr>\n  </thead>\n  <tbody>\n    <tr>\n      <th>0</th>\n      <td>1</td>\n      <td>Toy Story (1995)</td>\n      <td>Adventure</td>\n      <td>1.0</td>\n      <td>1.0</td>\n      <td>4.0</td>\n      <td>9.649827e+08</td>\n    </tr>\n    <tr>\n      <th>1</th>\n      <td>1</td>\n      <td>Toy Story (1995)</td>\n      <td>Adventure</td>\n      <td>1.0</td>\n      <td>5.0</td>\n      <td>4.0</td>\n      <td>8.474350e+08</td>\n    </tr>\n    <tr>\n      <th>2</th>\n      <td>1</td>\n      <td>Toy Story (1995)</td>\n      <td>Adventure</td>\n      <td>1.0</td>\n      <td>7.0</td>\n      <td>4.5</td>\n      <td>1.106636e+09</td>\n    </tr>\n    <tr>\n      <th>3</th>\n      <td>1</td>\n      <td>Toy Story (1995)</td>\n      <td>Adventure</td>\n      <td>1.0</td>\n      <td>15.0</td>\n      <td>2.5</td>\n      <td>1.510578e+09</td>\n    </tr>\n    <tr>\n      <th>4</th>\n      <td>1</td>\n      <td>Toy Story (1995)</td>\n      <td>Adventure</td>\n      <td>1.0</td>\n      <td>17.0</td>\n      <td>4.5</td>\n      <td>1.305696e+09</td>\n    </tr>\n  </tbody>\n</table>\n</div>"
     },
     "execution_count": 28,
     "metadata": {},
     "output_type": "execute_result"
    }
   ],
   "source": [
    "# join nas duas bases, trazendo a informação dos rating pra dentro da base dos filmes\n",
    "#Chave é o movieId\n",
    "full = movies2.merge(rating, on =['movieId'], how = 'left').copy()\n",
    "full.head()\n"
   ]
  },
  {
   "cell_type": "code",
   "execution_count": 29,
   "id": "aa1c32dc",
   "metadata": {
    "pycharm": {
     "name": "#%%\n"
    }
   },
   "outputs": [
    {
     "data": {
      "text/plain": "278"
     },
     "execution_count": 29,
     "metadata": {},
     "output_type": "execute_result"
    }
   ],
   "source": [
    "##PERGUNTA: Quantos usuários deram nota para o filme \"The Matrix\"?\n",
    "###Criando uma máscara\n",
    "base_matrix = full['movieId']==2571\n",
    "filtrada=full[base_matrix]\n",
    "filtrada\n",
    "\n",
    "filtrada.userId.nunique()"
   ]
  },
  {
   "cell_type": "code",
   "execution_count": 30,
   "id": "d387e98f",
   "metadata": {
    "pycharm": {
     "name": "#%%\n"
    }
   },
   "outputs": [
    {
     "data": {
      "text/plain": "   movieId  userId  linha_aux\n0        1     1.0        1.0\n1        1     5.0        1.0\n2        1     7.0        1.0\n3        1    15.0        1.0\n4        1    17.0        1.0\n5        1    18.0        1.0\n6        1    19.0        1.0\n7        1    21.0        1.0\n8        1    27.0        1.0\n9        1    31.0        1.0",
      "text/html": "<div>\n<style scoped>\n    .dataframe tbody tr th:only-of-type {\n        vertical-align: middle;\n    }\n\n    .dataframe tbody tr th {\n        vertical-align: top;\n    }\n\n    .dataframe thead th {\n        text-align: right;\n    }\n</style>\n<table border=\"1\" class=\"dataframe\">\n  <thead>\n    <tr style=\"text-align: right;\">\n      <th></th>\n      <th>movieId</th>\n      <th>userId</th>\n      <th>linha_aux</th>\n    </tr>\n  </thead>\n  <tbody>\n    <tr>\n      <th>0</th>\n      <td>1</td>\n      <td>1.0</td>\n      <td>1.0</td>\n    </tr>\n    <tr>\n      <th>1</th>\n      <td>1</td>\n      <td>5.0</td>\n      <td>1.0</td>\n    </tr>\n    <tr>\n      <th>2</th>\n      <td>1</td>\n      <td>7.0</td>\n      <td>1.0</td>\n    </tr>\n    <tr>\n      <th>3</th>\n      <td>1</td>\n      <td>15.0</td>\n      <td>1.0</td>\n    </tr>\n    <tr>\n      <th>4</th>\n      <td>1</td>\n      <td>17.0</td>\n      <td>1.0</td>\n    </tr>\n    <tr>\n      <th>5</th>\n      <td>1</td>\n      <td>18.0</td>\n      <td>1.0</td>\n    </tr>\n    <tr>\n      <th>6</th>\n      <td>1</td>\n      <td>19.0</td>\n      <td>1.0</td>\n    </tr>\n    <tr>\n      <th>7</th>\n      <td>1</td>\n      <td>21.0</td>\n      <td>1.0</td>\n    </tr>\n    <tr>\n      <th>8</th>\n      <td>1</td>\n      <td>27.0</td>\n      <td>1.0</td>\n    </tr>\n    <tr>\n      <th>9</th>\n      <td>1</td>\n      <td>31.0</td>\n      <td>1.0</td>\n    </tr>\n  </tbody>\n</table>\n</div>"
     },
     "execution_count": 30,
     "metadata": {},
     "output_type": "execute_result"
    }
   ],
   "source": [
    "####PERGUNTA: Quantos usuários, em média, deram nota para cada filme?\n",
    "###Para cada filme, somar quantos usuarios distintos. Depois fazer essa soma geral / qtde filmes\n",
    "\n",
    "#Para facilitar, vou criar um novo dataframe contendo somente MovieID, UserId\n",
    "base_movie_user_sd = full.drop_duplicates(['movieId', 'userId', 'linha_aux'])[['movieId', 'userId', 'linha_aux']]\n",
    "base_movie_user_sd.head(10)"
   ]
  },
  {
   "cell_type": "code",
   "execution_count": 31,
   "id": "816306c6",
   "metadata": {
    "pycharm": {
     "name": "#%%\n"
    }
   },
   "outputs": [
    {
     "data": {
      "text/plain": "userId    10.350647\ndtype: float64"
     },
     "execution_count": 31,
     "metadata": {},
     "output_type": "execute_result"
    }
   ],
   "source": [
    "#Transformar essa contagem em um df, pra depois usar a função MEAN nesse df\n",
    "users_per_movie = base_movie_user_sd.groupby('movieId')['userId'].count()\n",
    "users = pd.DataFrame(users_per_movie)\n",
    "users.mean()"
   ]
  },
  {
   "cell_type": "code",
   "execution_count": 32,
   "id": "9bf41ffb",
   "metadata": {
    "pycharm": {
     "name": "#%%\n"
    }
   },
   "outputs": [
    {
     "data": {
      "text/plain": "pandas.core.frame.DataFrame"
     },
     "execution_count": 32,
     "metadata": {},
     "output_type": "execute_result"
    }
   ],
   "source": [
    "###PERGUNTA Quais são os cinco filmes para os quais mais usuários deram nota?\n",
    "ordenados2 = users_per_movie.sort_values(ascending=False)\n",
    "aux_ord = pd.DataFrame(ordenados2)\n",
    "type(aux_ord)\n"
   ]
  },
  {
   "cell_type": "code",
   "execution_count": 33,
   "id": "88f26eab",
   "metadata": {
    "pycharm": {
     "name": "#%%\n"
    }
   },
   "outputs": [
    {
     "data": {
      "text/plain": "   movieId  userId                             title  \\\n0      356     329               Forrest Gump (1994)   \n1      318     317  Shawshank Redemption, The (1994)   \n2      296     307               Pulp Fiction (1994)   \n3      593     279  Silence of the Lambs, The (1991)   \n4     2571     278                Matrix, The (1999)   \n\n                        genres_list  \n0     [Comedy, Drama, Romance, War]  \n1                    [Crime, Drama]  \n2  [Comedy, Crime, Drama, Thriller]  \n3         [Crime, Horror, Thriller]  \n4        [Action, Sci-Fi, Thriller]  ",
      "text/html": "<div>\n<style scoped>\n    .dataframe tbody tr th:only-of-type {\n        vertical-align: middle;\n    }\n\n    .dataframe tbody tr th {\n        vertical-align: top;\n    }\n\n    .dataframe thead th {\n        text-align: right;\n    }\n</style>\n<table border=\"1\" class=\"dataframe\">\n  <thead>\n    <tr style=\"text-align: right;\">\n      <th></th>\n      <th>movieId</th>\n      <th>userId</th>\n      <th>title</th>\n      <th>genres_list</th>\n    </tr>\n  </thead>\n  <tbody>\n    <tr>\n      <th>0</th>\n      <td>356</td>\n      <td>329</td>\n      <td>Forrest Gump (1994)</td>\n      <td>[Comedy, Drama, Romance, War]</td>\n    </tr>\n    <tr>\n      <th>1</th>\n      <td>318</td>\n      <td>317</td>\n      <td>Shawshank Redemption, The (1994)</td>\n      <td>[Crime, Drama]</td>\n    </tr>\n    <tr>\n      <th>2</th>\n      <td>296</td>\n      <td>307</td>\n      <td>Pulp Fiction (1994)</td>\n      <td>[Comedy, Crime, Drama, Thriller]</td>\n    </tr>\n    <tr>\n      <th>3</th>\n      <td>593</td>\n      <td>279</td>\n      <td>Silence of the Lambs, The (1991)</td>\n      <td>[Crime, Horror, Thriller]</td>\n    </tr>\n    <tr>\n      <th>4</th>\n      <td>2571</td>\n      <td>278</td>\n      <td>Matrix, The (1999)</td>\n      <td>[Action, Sci-Fi, Thriller]</td>\n    </tr>\n  </tbody>\n</table>\n</div>"
     },
     "execution_count": 33,
     "metadata": {},
     "output_type": "execute_result"
    }
   ],
   "source": [
    "##Traz titulo do filme para os 5 mais avaliados\n",
    "# join nas duas bases, trazendo a informação dos rating pra dentro da base dos filmes\n",
    "#Chave é o movieId\n",
    "top5_movies = aux_ord.merge(movies, on =['movieId'], how = 'left').copy()\n",
    "top5_movies.head()\n"
   ]
  },
  {
   "cell_type": "code",
   "execution_count": 34,
   "id": "3025f354",
   "metadata": {
    "pycharm": {
     "name": "#%%\n"
    }
   },
   "outputs": [
    {
     "data": {
      "text/plain": "        movieId               title genres_list  linha_aux  userId  rating  \\\n121060     2571  Matrix, The (1999)      Action        1.0     1.0     5.0   \n121061     2571  Matrix, The (1999)      Action        1.0     4.0     1.0   \n121062     2571  Matrix, The (1999)      Action        1.0    10.0     0.5   \n121063     2571  Matrix, The (1999)      Action        1.0    13.0     5.0   \n121064     2571  Matrix, The (1999)      Action        1.0    15.0     4.0   \n...         ...                 ...         ...        ...     ...     ...   \n121889     2571  Matrix, The (1999)    Thriller        1.0   603.0     5.0   \n121890     2571  Matrix, The (1999)    Thriller        1.0   606.0     5.0   \n121891     2571  Matrix, The (1999)    Thriller        1.0   607.0     5.0   \n121892     2571  Matrix, The (1999)    Thriller        1.0   608.0     5.0   \n121893     2571  Matrix, The (1999)    Thriller        1.0   610.0     5.0   \n\n           timestamp  \n121060  9.649819e+08  \n121061  9.451734e+08  \n121062  1.455356e+09  \n121063  9.874570e+08  \n121064  1.510572e+09  \n...              ...  \n121889  9.631776e+08  \n121890  1.171326e+09  \n121891  9.630800e+08  \n121892  1.117162e+09  \n121893  1.479546e+09  \n\n[834 rows x 7 columns]",
      "text/html": "<div>\n<style scoped>\n    .dataframe tbody tr th:only-of-type {\n        vertical-align: middle;\n    }\n\n    .dataframe tbody tr th {\n        vertical-align: top;\n    }\n\n    .dataframe thead th {\n        text-align: right;\n    }\n</style>\n<table border=\"1\" class=\"dataframe\">\n  <thead>\n    <tr style=\"text-align: right;\">\n      <th></th>\n      <th>movieId</th>\n      <th>title</th>\n      <th>genres_list</th>\n      <th>linha_aux</th>\n      <th>userId</th>\n      <th>rating</th>\n      <th>timestamp</th>\n    </tr>\n  </thead>\n  <tbody>\n    <tr>\n      <th>121060</th>\n      <td>2571</td>\n      <td>Matrix, The (1999)</td>\n      <td>Action</td>\n      <td>1.0</td>\n      <td>1.0</td>\n      <td>5.0</td>\n      <td>9.649819e+08</td>\n    </tr>\n    <tr>\n      <th>121061</th>\n      <td>2571</td>\n      <td>Matrix, The (1999)</td>\n      <td>Action</td>\n      <td>1.0</td>\n      <td>4.0</td>\n      <td>1.0</td>\n      <td>9.451734e+08</td>\n    </tr>\n    <tr>\n      <th>121062</th>\n      <td>2571</td>\n      <td>Matrix, The (1999)</td>\n      <td>Action</td>\n      <td>1.0</td>\n      <td>10.0</td>\n      <td>0.5</td>\n      <td>1.455356e+09</td>\n    </tr>\n    <tr>\n      <th>121063</th>\n      <td>2571</td>\n      <td>Matrix, The (1999)</td>\n      <td>Action</td>\n      <td>1.0</td>\n      <td>13.0</td>\n      <td>5.0</td>\n      <td>9.874570e+08</td>\n    </tr>\n    <tr>\n      <th>121064</th>\n      <td>2571</td>\n      <td>Matrix, The (1999)</td>\n      <td>Action</td>\n      <td>1.0</td>\n      <td>15.0</td>\n      <td>4.0</td>\n      <td>1.510572e+09</td>\n    </tr>\n    <tr>\n      <th>...</th>\n      <td>...</td>\n      <td>...</td>\n      <td>...</td>\n      <td>...</td>\n      <td>...</td>\n      <td>...</td>\n      <td>...</td>\n    </tr>\n    <tr>\n      <th>121889</th>\n      <td>2571</td>\n      <td>Matrix, The (1999)</td>\n      <td>Thriller</td>\n      <td>1.0</td>\n      <td>603.0</td>\n      <td>5.0</td>\n      <td>9.631776e+08</td>\n    </tr>\n    <tr>\n      <th>121890</th>\n      <td>2571</td>\n      <td>Matrix, The (1999)</td>\n      <td>Thriller</td>\n      <td>1.0</td>\n      <td>606.0</td>\n      <td>5.0</td>\n      <td>1.171326e+09</td>\n    </tr>\n    <tr>\n      <th>121891</th>\n      <td>2571</td>\n      <td>Matrix, The (1999)</td>\n      <td>Thriller</td>\n      <td>1.0</td>\n      <td>607.0</td>\n      <td>5.0</td>\n      <td>9.630800e+08</td>\n    </tr>\n    <tr>\n      <th>121892</th>\n      <td>2571</td>\n      <td>Matrix, The (1999)</td>\n      <td>Thriller</td>\n      <td>1.0</td>\n      <td>608.0</td>\n      <td>5.0</td>\n      <td>1.117162e+09</td>\n    </tr>\n    <tr>\n      <th>121893</th>\n      <td>2571</td>\n      <td>Matrix, The (1999)</td>\n      <td>Thriller</td>\n      <td>1.0</td>\n      <td>610.0</td>\n      <td>5.0</td>\n      <td>1.479546e+09</td>\n    </tr>\n  </tbody>\n</table>\n<p>834 rows × 7 columns</p>\n</div>"
     },
     "execution_count": 34,
     "metadata": {},
     "output_type": "execute_result"
    }
   ],
   "source": [
    "###PERGUNTA  Qual o rating médio do filme \"The Matrix\"?\n",
    "filtrada"
   ]
  },
  {
   "cell_type": "code",
   "execution_count": 35,
   "id": "80db9485",
   "metadata": {
    "pycharm": {
     "name": "#%%\n"
    }
   },
   "outputs": [
    {
     "data": {
      "text/plain": "        movieId  userId  rating\n121060     2571     1.0     5.0\n121061     2571     4.0     1.0\n121062     2571    10.0     0.5\n121063     2571    13.0     5.0\n121064     2571    15.0     4.0\n121065     2571    16.0     3.5\n121066     2571    17.0     5.0\n121067     2571    18.0     4.5\n121068     2571    19.0     4.0\n121069     2571    21.0     4.0",
      "text/html": "<div>\n<style scoped>\n    .dataframe tbody tr th:only-of-type {\n        vertical-align: middle;\n    }\n\n    .dataframe tbody tr th {\n        vertical-align: top;\n    }\n\n    .dataframe thead th {\n        text-align: right;\n    }\n</style>\n<table border=\"1\" class=\"dataframe\">\n  <thead>\n    <tr style=\"text-align: right;\">\n      <th></th>\n      <th>movieId</th>\n      <th>userId</th>\n      <th>rating</th>\n    </tr>\n  </thead>\n  <tbody>\n    <tr>\n      <th>121060</th>\n      <td>2571</td>\n      <td>1.0</td>\n      <td>5.0</td>\n    </tr>\n    <tr>\n      <th>121061</th>\n      <td>2571</td>\n      <td>4.0</td>\n      <td>1.0</td>\n    </tr>\n    <tr>\n      <th>121062</th>\n      <td>2571</td>\n      <td>10.0</td>\n      <td>0.5</td>\n    </tr>\n    <tr>\n      <th>121063</th>\n      <td>2571</td>\n      <td>13.0</td>\n      <td>5.0</td>\n    </tr>\n    <tr>\n      <th>121064</th>\n      <td>2571</td>\n      <td>15.0</td>\n      <td>4.0</td>\n    </tr>\n    <tr>\n      <th>121065</th>\n      <td>2571</td>\n      <td>16.0</td>\n      <td>3.5</td>\n    </tr>\n    <tr>\n      <th>121066</th>\n      <td>2571</td>\n      <td>17.0</td>\n      <td>5.0</td>\n    </tr>\n    <tr>\n      <th>121067</th>\n      <td>2571</td>\n      <td>18.0</td>\n      <td>4.5</td>\n    </tr>\n    <tr>\n      <th>121068</th>\n      <td>2571</td>\n      <td>19.0</td>\n      <td>4.0</td>\n    </tr>\n    <tr>\n      <th>121069</th>\n      <td>2571</td>\n      <td>21.0</td>\n      <td>4.0</td>\n    </tr>\n  </tbody>\n</table>\n</div>"
     },
     "execution_count": 35,
     "metadata": {},
     "output_type": "execute_result"
    }
   ],
   "source": [
    "####Faz um dataframe da filtrada, tirando a coluna de generos\n",
    "base_matrix_user_sd = filtrada.drop_duplicates(['movieId', 'userId', 'rating'])[['movieId', 'userId', 'rating']]\n",
    "base_matrix_user_sd.head(10)"
   ]
  },
  {
   "cell_type": "code",
   "execution_count": 36,
   "id": "c6a6cd1b",
   "metadata": {
    "pycharm": {
     "name": "#%%\n"
    }
   },
   "outputs": [
    {
     "data": {
      "text/plain": "movieId\n2571    4.192446\nName: rating, dtype: float64"
     },
     "execution_count": 36,
     "metadata": {},
     "output_type": "execute_result"
    }
   ],
   "source": [
    "##Rating médio do filme The Matrix 1999 (MoveId = 2571)\n",
    "base_matrix_user_sd.groupby('movieId')['rating'].mean()"
   ]
  },
  {
   "cell_type": "code",
   "execution_count": 37,
   "id": "ad7e906b",
   "metadata": {
    "pycharm": {
     "name": "#%%\n"
    }
   },
   "outputs": [
    {
     "data": {
      "text/plain": "movieId\n1         3.920930\n2         3.431818\n3         3.259615\n4         2.357143\n5         3.071429\n            ...   \n193581    4.000000\n193583    3.500000\n193585    3.500000\n193587    3.500000\n193609    4.000000\nName: rating, Length: 9742, dtype: float64"
     },
     "execution_count": 37,
     "metadata": {},
     "output_type": "execute_result"
    }
   ],
   "source": [
    "###PERGUNTA: Cada filme tem um rating médio. Qual a média desses ratings, por gênero?\n",
    "full.groupby('movieId')['rating'].mean()\n"
   ]
  },
  {
   "cell_type": "code",
   "execution_count": 39,
   "id": "3d885482",
   "metadata": {
    "pycharm": {
     "name": "#%%\n"
    }
   },
   "outputs": [
    {
     "data": {
      "text/plain": "genres_list\n(no genres listed)     9\nAction                10\nAdventure             10\nAnimation             10\nChildren              10\nComedy                10\nCrime                 10\nDocumentary           10\nDrama                 10\nFantasy               10\nFilm-Noir             10\nHorror                10\nIMAX                  10\nMusical               10\nMystery               10\nRomance               10\nSci-Fi                10\nThriller              10\nWar                   10\nWestern               10\nName: rating, dtype: int64"
     },
     "execution_count": 39,
     "metadata": {},
     "output_type": "execute_result"
    }
   ],
   "source": [
    "###PERGUNTA: Para cada gênero de filme, quantos usuários deram cada nota possível?\n",
    "full.groupby('genres_list')['rating'].nunique()\n",
    "\n",
    " "
   ]
  }
 ],
 "metadata": {
  "kernelspec": {
   "display_name": "Python 3 (ipykernel)",
   "language": "python",
   "name": "python3"
  },
  "language_info": {
   "codemirror_mode": {
    "name": "ipython",
    "version": 3
   },
   "file_extension": ".py",
   "mimetype": "text/x-python",
   "name": "python",
   "nbconvert_exporter": "python",
   "pygments_lexer": "ipython3",
   "version": "3.9.12"
  }
 },
 "nbformat": 4,
 "nbformat_minor": 5
}